{
 "cells": [
  {
   "cell_type": "code",
   "execution_count": 2,
   "id": "c53e2078",
   "metadata": {},
   "outputs": [],
   "source": [
    "import copy\n",
    "import numpy as np\n",
    "import matplotlib.pyplot as plt\n",
    "import pandas as pd\n",
    "from modules import solver, presolver\n",
    "from pyballistics import ozvb_lagrange, get_powder_names\n",
    "from tqdm import tqdm"
   ]
  },
  {
   "cell_type": "markdown",
   "id": "0f1c1561",
   "metadata": {},
   "source": [
    "## Нахождение начальных точек\n",
    "формируется таблица с начальными точками для каждого пороха"
   ]
  },
  {
   "cell_type": "code",
   "execution_count": 3,
   "id": "94a02000",
   "metadata": {},
   "outputs": [
    {
     "data": {
      "text/html": [
       "<div>\n",
       "<style scoped>\n",
       "    .dataframe tbody tr th:only-of-type {\n",
       "        vertical-align: middle;\n",
       "    }\n",
       "\n",
       "    .dataframe tbody tr th {\n",
       "        vertical-align: top;\n",
       "    }\n",
       "\n",
       "    .dataframe thead th {\n",
       "        text-align: right;\n",
       "    }\n",
       "</style>\n",
       "<table border=\"1\" class=\"dataframe\">\n",
       "  <thead>\n",
       "    <tr style=\"text-align: right;\">\n",
       "      <th></th>\n",
       "      <th>dbname</th>\n",
       "      <th>wq</th>\n",
       "      <th>ro</th>\n",
       "      <th>reason</th>\n",
       "      <th>success</th>\n",
       "    </tr>\n",
       "  </thead>\n",
       "  <tbody>\n",
       "  </tbody>\n",
       "</table>\n",
       "</div>"
      ],
      "text/plain": [
       "Empty DataFrame\n",
       "Columns: [dbname, wq, ro, reason, success]\n",
       "Index: []"
      ]
     },
     "execution_count": 3,
     "metadata": {},
     "output_type": "execute_result"
    }
   ],
   "source": [
    "tabel_init_points = pd.read_csv(\"data/init_points.csv\")\n",
    "tabel_init_points.loc[tabel_init_points['success']==False]"
   ]
  },
  {
   "cell_type": "markdown",
   "id": "ec2ebed8",
   "metadata": {},
   "source": [
    "## Решение обратной задачи"
   ]
  },
  {
   "cell_type": "code",
   "execution_count": 4,
   "id": "627fe8fa",
   "metadata": {},
   "outputs": [],
   "source": [
    "tabel_result = list()"
   ]
  },
  {
   "cell_type": "code",
   "execution_count": null,
   "id": "7a4ff66b",
   "metadata": {},
   "outputs": [
    {
     "data": {
      "application/vnd.jupyter.widget-view+json": {
       "model_id": "75925ebc88154d75a9d6476b391ff52a",
       "version_major": 2,
       "version_minor": 0
      },
      "text/plain": [
       "0it [00:00, ?it/s]"
      ]
     },
     "metadata": {},
     "output_type": "display_data"
    },
    {
     "name": "stdout",
     "output_type": "stream",
     "text": [
      "Optimization terminated successfully.\n",
      "         Current function value: 46377.918725\n",
      "         Iterations: 105\n",
      "         Function evaluations: 200\n",
      "Optimization terminated successfully.\n",
      "         Current function value: 46377.918725\n",
      "         Iterations: 93\n",
      "         Function evaluations: 174\n",
      "Warning: Maximum number of function evaluations has been exceeded.\n",
      "No success in result\n",
      "Optimization terminated successfully.\n",
      "         Current function value: 992.757071\n",
      "         Iterations: 87\n",
      "         Function evaluations: 168\n",
      "Optimization terminated successfully.\n",
      "         Current function value: 928.111222\n",
      "         Iterations: 108\n",
      "         Function evaluations: 206\n",
      "Optimization terminated successfully.\n",
      "         Current function value: 8367.414202\n",
      "         Iterations: 74\n",
      "         Function evaluations: 147\n",
      "Optimization terminated successfully.\n",
      "         Current function value: 859.845700\n",
      "         Iterations: 106\n",
      "         Function evaluations: 204\n",
      "Optimization terminated successfully.\n",
      "         Current function value: 1264.952612\n",
      "         Iterations: 121\n",
      "         Function evaluations: 226\n"
     ]
    },
    {
     "name": "stderr",
     "output_type": "stream",
     "text": [
      "E:\\PROGRAMMING PROJECT\\Jupyter project\\BMSTU\\5th year\\Gun Projecting\\modules\\solver.py:223: RuntimeWarning: divide by zero encountered in true_divide\n",
      "  self.n_real = self.pressure_tube/self.pressure\n"
     ]
    },
    {
     "name": "stdout",
     "output_type": "stream",
     "text": [
      "Optimization terminated successfully.\n",
      "         Current function value: 19869.114167\n",
      "         Iterations: 65\n",
      "         Function evaluations: 132\n",
      "Optimization terminated successfully.\n",
      "         Current function value: 855.711869\n",
      "         Iterations: 103\n",
      "         Function evaluations: 191\n",
      "Optimization terminated successfully.\n",
      "         Current function value: 723.142407\n",
      "         Iterations: 70\n",
      "         Function evaluations: 145\n",
      "Optimization terminated successfully.\n",
      "         Current function value: 652.738360\n",
      "         Iterations: 73\n",
      "         Function evaluations: 137\n",
      "Optimization terminated successfully.\n",
      "         Current function value: 747.325416\n",
      "         Iterations: 86\n",
      "         Function evaluations: 159\n",
      "Optimization terminated successfully.\n",
      "         Current function value: 759.903356\n",
      "         Iterations: 84\n",
      "         Function evaluations: 162\n",
      "Optimization terminated successfully.\n",
      "         Current function value: 679.419270\n",
      "         Iterations: 150\n",
      "         Function evaluations: 308\n",
      "Optimization terminated successfully.\n",
      "         Current function value: 796.866971\n",
      "         Iterations: 86\n",
      "         Function evaluations: 173\n",
      "Optimization terminated successfully.\n",
      "         Current function value: 667.674053\n",
      "         Iterations: 79\n",
      "         Function evaluations: 159\n",
      "Optimization terminated successfully.\n",
      "         Current function value: 800.235930\n",
      "         Iterations: 71\n",
      "         Function evaluations: 140\n",
      "Optimization terminated successfully.\n",
      "         Current function value: 4227.496215\n",
      "         Iterations: 106\n",
      "         Function evaluations: 207\n",
      "Optimization terminated successfully.\n",
      "         Current function value: 798.633250\n",
      "         Iterations: 68\n",
      "         Function evaluations: 137\n",
      "Optimization terminated successfully.\n",
      "         Current function value: 480.223161\n",
      "         Iterations: 76\n",
      "         Function evaluations: 151\n",
      "Optimization terminated successfully.\n",
      "         Current function value: 579.575022\n",
      "         Iterations: 87\n",
      "         Function evaluations: 175\n",
      "Optimization terminated successfully.\n",
      "         Current function value: 10459.494706\n",
      "         Iterations: 98\n",
      "         Function evaluations: 183\n",
      "Optimization terminated successfully.\n",
      "         Current function value: 516.875193\n",
      "         Iterations: 115\n",
      "         Function evaluations: 265\n",
      "Optimization terminated successfully.\n",
      "         Current function value: 735.399363\n",
      "         Iterations: 72\n",
      "         Function evaluations: 144\n",
      "Optimization terminated successfully.\n",
      "         Current function value: 710.376799\n",
      "         Iterations: 199\n",
      "         Function evaluations: 388\n",
      "Optimization terminated successfully.\n",
      "         Current function value: 419.763182\n",
      "         Iterations: 90\n",
      "         Function evaluations: 171\n",
      "Optimization terminated successfully.\n",
      "         Current function value: 534.218229\n",
      "         Iterations: 94\n",
      "         Function evaluations: 206\n",
      "Optimization terminated successfully.\n",
      "         Current function value: 621.998299\n",
      "         Iterations: 69\n",
      "         Function evaluations: 134\n",
      "Optimization terminated successfully.\n",
      "         Current function value: 799.838916\n",
      "         Iterations: 82\n",
      "         Function evaluations: 159\n",
      "Optimization terminated successfully.\n",
      "         Current function value: 374.109954\n",
      "         Iterations: 76\n",
      "         Function evaluations: 154\n",
      "Warning: Maximum number of function evaluations has been exceeded.\n",
      "No success in result\n",
      "Optimization terminated successfully.\n",
      "         Current function value: 568.412249\n",
      "         Iterations: 166\n",
      "         Function evaluations: 319\n",
      "Optimization terminated successfully.\n",
      "         Current function value: 335.012023\n",
      "         Iterations: 194\n",
      "         Function evaluations: 356\n",
      "Optimization terminated successfully.\n",
      "         Current function value: 665.969794\n",
      "         Iterations: 80\n",
      "         Function evaluations: 158\n",
      "Optimization terminated successfully.\n",
      "         Current function value: 354.690029\n",
      "         Iterations: 125\n",
      "         Function evaluations: 266\n",
      "Optimization terminated successfully.\n",
      "         Current function value: 301.055473\n",
      "         Iterations: 82\n",
      "         Function evaluations: 156\n",
      "Optimization terminated successfully.\n",
      "         Current function value: 347.492941\n",
      "         Iterations: 95\n",
      "         Function evaluations: 192\n",
      "Optimization terminated successfully.\n",
      "         Current function value: 305.972315\n",
      "         Iterations: 79\n",
      "         Function evaluations: 152\n",
      "Optimization terminated successfully.\n",
      "         Current function value: 705.258644\n",
      "         Iterations: 97\n",
      "         Function evaluations: 190\n",
      "Warning: Maximum number of function evaluations has been exceeded.\n",
      "No success in result\n",
      "Warning: Maximum number of function evaluations has been exceeded.\n",
      "No success in result\n",
      "Optimization terminated successfully.\n",
      "         Current function value: 326.835090\n",
      "         Iterations: 179\n",
      "         Function evaluations: 326\n",
      "Warning: Maximum number of function evaluations has been exceeded.\n",
      "No success in result\n",
      "Optimization terminated successfully.\n",
      "         Current function value: 2117.529874\n",
      "         Iterations: 103\n",
      "         Function evaluations: 196\n",
      "Optimization terminated successfully.\n",
      "         Current function value: 315.032842\n",
      "         Iterations: 76\n",
      "         Function evaluations: 140\n",
      "Optimization terminated successfully.\n",
      "         Current function value: 306.791704\n",
      "         Iterations: 77\n",
      "         Function evaluations: 151\n",
      "Optimization terminated successfully.\n",
      "         Current function value: 373.580494\n",
      "         Iterations: 100\n",
      "         Function evaluations: 188\n",
      "Warning: Maximum number of function evaluations has been exceeded.\n",
      "No success in result\n",
      "Optimization terminated successfully.\n",
      "         Current function value: 362.815050\n",
      "         Iterations: 121\n",
      "         Function evaluations: 229\n",
      "Optimization terminated successfully.\n",
      "         Current function value: 2441.510110\n",
      "         Iterations: 155\n",
      "         Function evaluations: 310\n",
      "Warning: Maximum number of function evaluations has been exceeded.\n",
      "No success in result\n",
      "Optimization terminated successfully.\n",
      "         Current function value: 357.627414\n",
      "         Iterations: 105\n",
      "         Function evaluations: 202\n",
      "Warning: Maximum number of function evaluations has been exceeded.\n",
      "No success in result\n",
      "Warning: Maximum number of function evaluations has been exceeded.\n",
      "No success in result\n",
      "Warning: Maximum number of function evaluations has been exceeded.\n",
      "No success in result\n"
     ]
    }
   ],
   "source": [
    "%%time\n",
    "\n",
    "for _, row in tqdm(tabel_init_points.iterrows()):\n",
    "    initial_dict = presolver.init_dict(row['dbname'], row['wq'], row['ro'])\n",
    "    #print(\"name: \", row['dbname'], \" wq: \", row['wq'], \" ro \", row['ro'])\n",
    "    solv = solver.Solver(initial_dict)\n",
    "    solv.solution()\n",
    "    tabel_result.append(solv.get_solution())\n",
    "        "
   ]
  },
  {
   "cell_type": "code",
   "execution_count": 5,
   "id": "2075f051",
   "metadata": {},
   "outputs": [],
   "source": [
    "result = copy.deepcopy(tabel_result)"
   ]
  },
  {
   "cell_type": "code",
   "execution_count": null,
   "id": "5ce0ed2e",
   "metadata": {},
   "outputs": [],
   "source": [
    "table = pd.DataFrame(result)\n",
    "#table.to_csv(\"data/table_result.csv\", index=False)"
   ]
  },
  {
   "cell_type": "markdown",
   "id": "9d29f03d",
   "metadata": {},
   "source": [
    "## Обработка"
   ]
  },
  {
   "cell_type": "code",
   "execution_count": null,
   "id": "816bdf97",
   "metadata": {},
   "outputs": [],
   "source": [
    "table.head()"
   ]
  }
 ],
 "metadata": {
  "kernelspec": {
   "display_name": "Python 3 (ipykernel)",
   "language": "python",
   "name": "python3"
  },
  "language_info": {
   "codemirror_mode": {
    "name": "ipython",
    "version": 3
   },
   "file_extension": ".py",
   "mimetype": "text/x-python",
   "name": "python",
   "nbconvert_exporter": "python",
   "pygments_lexer": "ipython3",
   "version": "3.8.3"
  }
 },
 "nbformat": 4,
 "nbformat_minor": 5
}
