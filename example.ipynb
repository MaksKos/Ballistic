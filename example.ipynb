{
 "cells": [
  {
   "cell_type": "code",
   "execution_count": 1,
   "id": "c53e2078",
   "metadata": {},
   "outputs": [],
   "source": [
    "import copy\n",
    "import numpy as np\n",
    "import matplotlib.pyplot as plt\n",
    "from modules import solver\n",
    "from pyballistics import ozvb_lagrange, get_db_powder, get_powder_names\n",
    "from tqdm.notebook import tqdm, trange"
   ]
  },
  {
   "cell_type": "code",
   "execution_count": 2,
   "id": "98936642",
   "metadata": {},
   "outputs": [
    {
     "name": "stdout",
     "output_type": "stream",
     "text": [
      " \n",
      "version 1.0\n",
      "\n",
      "This module solves inverse problem of internal ballistics.\n",
      "\n",
      "\n"
     ]
    }
   ],
   "source": [
    "print(solver.__doc__)"
   ]
  },
  {
   "cell_type": "markdown",
   "id": "0f1c1561",
   "metadata": {},
   "source": [
    "## Исходные данные\n",
    "задаются начальные данные по орудию и формируется словарь"
   ]
  },
  {
   "cell_type": "markdown",
   "id": "0c6b1d31",
   "metadata": {},
   "source": [
    "__Основные парметры__"
   ]
  },
  {
   "cell_type": "code",
   "execution_count": 3,
   "id": "14e28c73",
   "metadata": {},
   "outputs": [],
   "source": [
    "d = 125*1e-3          # калибр м\n",
    "q = 4.85           # вес снаряда кг\n",
    "velocity_pm = 1700         # дульная скорость снаряда\n",
    "n_s = 1           # нарезное орудие\n",
    "max_pressure = 1000*1e6    # максимальное давление Па\n",
    "tube_lenght = 5543*10e-3      # длина трубы  "
   ]
  },
  {
   "cell_type": "markdown",
   "id": "d2480db8",
   "metadata": {},
   "source": [
    "__Дополнительные параметры__"
   ]
  },
  {
   "cell_type": "code",
   "execution_count": 4,
   "id": "6dff6d0c",
   "metadata": {},
   "outputs": [],
   "source": [
    "# !! fix it\n",
    "p_fors = 10*1e6      #давление форсирования (гладкоствольные 7-15 МПа)\n",
    "\n",
    "#нормализация (в данный момент не используется)\n",
    "norm_ro = 1000 \n",
    "norm_w = 1"
   ]
  },
  {
   "cell_type": "markdown",
   "id": "cf12454b",
   "metadata": {},
   "source": [
    "__Словарь__"
   ]
  },
  {
   "cell_type": "code",
   "execution_count": 5,
   "id": "ff7a6a8f",
   "metadata": {},
   "outputs": [],
   "source": [
    "initial_dict_static =  {\n",
    "   'powders': \n",
    "    [\n",
    "       {'omega': None, 'dbname': None}\n",
    "    ],\n",
    "  'init_conditions': \n",
    "    {\n",
    "       'q': q,\n",
    "       'd': d,\n",
    "       'W_0': None ,\n",
    "       'phi_1': 1.0,\n",
    "       'p_0': p_fors, \n",
    "       'n_S': 1\n",
    "    },\n",
    "  'igniter': \n",
    "    {\n",
    "       'p_ign_0': 5000000.0 #check it \n",
    "    },\n",
    "  \n",
    "  'meta_lagrange': \n",
    "    {\n",
    "       'CFL': 0.9, \n",
    "       'n_cells': 300\n",
    "    },\n",
    "  'stop_conditions': \n",
    "    {\n",
    "       'x_p': tube_lenght,\n",
    "       'steps_max': 8000,   \n",
    "       't_max': 0.05,\n",
    "       'p_max': max_pressure,\n",
    "        'v_p': velocity_pm,\n",
    "    }\n",
    " }"
   ]
  },
  {
   "cell_type": "markdown",
   "id": "ec2ebed8",
   "metadata": {},
   "source": [
    "## Решение обратной задачи"
   ]
  },
  {
   "cell_type": "markdown",
   "id": "3e8cd07c",
   "metadata": {},
   "source": [
    "__Инициализация массивов под решение__"
   ]
  },
  {
   "cell_type": "code",
   "execution_count": 6,
   "id": "07d547fc",
   "metadata": {},
   "outputs": [],
   "source": [
    "powders_names = get_powder_names()\n",
    "n = len(powders_names)\n",
    "wq_0 = np.random.rand(n)*0.8 + 0.1\n",
    "ro_0 = np.random.rand(n)*800 + 100"
   ]
  },
  {
   "cell_type": "code",
   "execution_count": 7,
   "id": "41a07b3b",
   "metadata": {},
   "outputs": [],
   "source": [
    "optim_parametrs = list()"
   ]
  },
  {
   "cell_type": "markdown",
   "id": "23669ee2",
   "metadata": {},
   "source": [
    "__Цикл решения__:\n",
    "\n",
    "    1. Внешний цикл по порохам\n",
    "    2. решение церез штафную функцию"
   ]
  },
  {
   "cell_type": "code",
   "execution_count": 8,
   "id": "7a4ff66b",
   "metadata": {},
   "outputs": [
    {
     "data": {
      "application/vnd.jupyter.widget-view+json": {
       "model_id": "9d903e6efac944e9888b6e92ff9cd0cf",
       "version_major": 2,
       "version_minor": 0
      },
      "text/plain": [
       "  0%|          | 0/2 [00:00<?, ?it/s]"
      ]
     },
     "metadata": {},
     "output_type": "display_data"
    },
    {
     "name": "stderr",
     "output_type": "stream",
     "text": [
      "E:\\PROGRAMMING PROJECT\\Jupyter project\\BMSTU\\5th year\\Gun Projecting\\modules\\solver.py:197: RuntimeWarning: invalid value encountered in less\n",
      "  if sqr < 0:\n"
     ]
    },
    {
     "ename": "ValueError",
     "evalue": "The truth value of an array with more than one element is ambiguous. Use a.any() or a.all()",
     "output_type": "error",
     "traceback": [
      "\u001b[1;31m---------------------------------------------------------------------------\u001b[0m",
      "\u001b[1;31mValueError\u001b[0m                                Traceback (most recent call last)",
      "\u001b[1;32m<timed exec>\u001b[0m in \u001b[0;36m<module>\u001b[1;34m\u001b[0m\n",
      "\u001b[1;32mE:\\PROGRAMMING PROJECT\\Jupyter project\\BMSTU\\5th year\\Gun Projecting\\modules\\solver.py\u001b[0m in \u001b[0;36msolution\u001b[1;34m(self)\u001b[0m\n\u001b[0;32m     37\u001b[0m \u001b[1;33m\u001b[0m\u001b[0m\n\u001b[0;32m     38\u001b[0m         \u001b[0minitial_guess\u001b[0m \u001b[1;33m=\u001b[0m \u001b[0mnp\u001b[0m\u001b[1;33m.\u001b[0m\u001b[0marray\u001b[0m\u001b[1;33m(\u001b[0m\u001b[1;33m[\u001b[0m\u001b[1;33m[\u001b[0m\u001b[0mwq_0\u001b[0m\u001b[1;33m,\u001b[0m \u001b[0mro_0\u001b[0m\u001b[1;33m]\u001b[0m\u001b[1;33m]\u001b[0m\u001b[1;33m)\u001b[0m\u001b[1;33m\u001b[0m\u001b[1;33m\u001b[0m\u001b[0m\n\u001b[1;32m---> 39\u001b[1;33m         result = minimize(self.__minimum_mass, initial_guess, method='nelder-mead',\n\u001b[0m\u001b[0;32m     40\u001b[0m                          options={'xtol': 1e-4, 'disp': False, 'return_all': True}) \n\u001b[0;32m     41\u001b[0m         \u001b[0mself\u001b[0m\u001b[1;33m.\u001b[0m\u001b[0mresult\u001b[0m \u001b[1;33m=\u001b[0m \u001b[0mOptimizeResult\u001b[0m\u001b[1;33m(\u001b[0m\u001b[0mresult\u001b[0m\u001b[1;33m)\u001b[0m\u001b[1;33m\u001b[0m\u001b[1;33m\u001b[0m\u001b[0m\n",
      "\u001b[1;32m~\\anaconda3\\lib\\site-packages\\scipy\\optimize\\_minimize.py\u001b[0m in \u001b[0;36mminimize\u001b[1;34m(fun, x0, args, method, jac, hess, hessp, bounds, constraints, tol, callback, options)\u001b[0m\n\u001b[0;32m    606\u001b[0m \u001b[1;33m\u001b[0m\u001b[0m\n\u001b[0;32m    607\u001b[0m     \u001b[1;32mif\u001b[0m \u001b[0mmeth\u001b[0m \u001b[1;33m==\u001b[0m \u001b[1;34m'nelder-mead'\u001b[0m\u001b[1;33m:\u001b[0m\u001b[1;33m\u001b[0m\u001b[1;33m\u001b[0m\u001b[0m\n\u001b[1;32m--> 608\u001b[1;33m         \u001b[1;32mreturn\u001b[0m \u001b[0m_minimize_neldermead\u001b[0m\u001b[1;33m(\u001b[0m\u001b[0mfun\u001b[0m\u001b[1;33m,\u001b[0m \u001b[0mx0\u001b[0m\u001b[1;33m,\u001b[0m \u001b[0margs\u001b[0m\u001b[1;33m,\u001b[0m \u001b[0mcallback\u001b[0m\u001b[1;33m,\u001b[0m \u001b[1;33m**\u001b[0m\u001b[0moptions\u001b[0m\u001b[1;33m)\u001b[0m\u001b[1;33m\u001b[0m\u001b[1;33m\u001b[0m\u001b[0m\n\u001b[0m\u001b[0;32m    609\u001b[0m     \u001b[1;32melif\u001b[0m \u001b[0mmeth\u001b[0m \u001b[1;33m==\u001b[0m \u001b[1;34m'powell'\u001b[0m\u001b[1;33m:\u001b[0m\u001b[1;33m\u001b[0m\u001b[1;33m\u001b[0m\u001b[0m\n\u001b[0;32m    610\u001b[0m         \u001b[1;32mreturn\u001b[0m \u001b[0m_minimize_powell\u001b[0m\u001b[1;33m(\u001b[0m\u001b[0mfun\u001b[0m\u001b[1;33m,\u001b[0m \u001b[0mx0\u001b[0m\u001b[1;33m,\u001b[0m \u001b[0margs\u001b[0m\u001b[1;33m,\u001b[0m \u001b[0mcallback\u001b[0m\u001b[1;33m,\u001b[0m \u001b[0mbounds\u001b[0m\u001b[1;33m,\u001b[0m \u001b[1;33m**\u001b[0m\u001b[0moptions\u001b[0m\u001b[1;33m)\u001b[0m\u001b[1;33m\u001b[0m\u001b[1;33m\u001b[0m\u001b[0m\n",
      "\u001b[1;32m~\\anaconda3\\lib\\site-packages\\scipy\\optimize\\optimize.py\u001b[0m in \u001b[0;36m_minimize_neldermead\u001b[1;34m(func, x0, args, callback, maxiter, maxfev, disp, return_all, initial_simplex, xatol, fatol, adaptive, **unknown_options)\u001b[0m\n\u001b[0;32m    721\u001b[0m \u001b[1;33m\u001b[0m\u001b[0m\n\u001b[0;32m    722\u001b[0m     \u001b[1;32mfor\u001b[0m \u001b[0mk\u001b[0m \u001b[1;32min\u001b[0m \u001b[0mrange\u001b[0m\u001b[1;33m(\u001b[0m\u001b[0mN\u001b[0m \u001b[1;33m+\u001b[0m \u001b[1;36m1\u001b[0m\u001b[1;33m)\u001b[0m\u001b[1;33m:\u001b[0m\u001b[1;33m\u001b[0m\u001b[1;33m\u001b[0m\u001b[0m\n\u001b[1;32m--> 723\u001b[1;33m         \u001b[0mfsim\u001b[0m\u001b[1;33m[\u001b[0m\u001b[0mk\u001b[0m\u001b[1;33m]\u001b[0m \u001b[1;33m=\u001b[0m \u001b[0mfunc\u001b[0m\u001b[1;33m(\u001b[0m\u001b[0msim\u001b[0m\u001b[1;33m[\u001b[0m\u001b[0mk\u001b[0m\u001b[1;33m]\u001b[0m\u001b[1;33m)\u001b[0m\u001b[1;33m\u001b[0m\u001b[1;33m\u001b[0m\u001b[0m\n\u001b[0m\u001b[0;32m    724\u001b[0m \u001b[1;33m\u001b[0m\u001b[0m\n\u001b[0;32m    725\u001b[0m     \u001b[0mind\u001b[0m \u001b[1;33m=\u001b[0m \u001b[0mnp\u001b[0m\u001b[1;33m.\u001b[0m\u001b[0margsort\u001b[0m\u001b[1;33m(\u001b[0m\u001b[0mfsim\u001b[0m\u001b[1;33m)\u001b[0m\u001b[1;33m\u001b[0m\u001b[1;33m\u001b[0m\u001b[0m\n",
      "\u001b[1;32m~\\anaconda3\\lib\\site-packages\\scipy\\optimize\\optimize.py\u001b[0m in \u001b[0;36mfunction_wrapper\u001b[1;34m(*wrapper_args)\u001b[0m\n\u001b[0;32m    459\u001b[0m     \u001b[1;32mdef\u001b[0m \u001b[0mfunction_wrapper\u001b[0m\u001b[1;33m(\u001b[0m\u001b[1;33m*\u001b[0m\u001b[0mwrapper_args\u001b[0m\u001b[1;33m)\u001b[0m\u001b[1;33m:\u001b[0m\u001b[1;33m\u001b[0m\u001b[1;33m\u001b[0m\u001b[0m\n\u001b[0;32m    460\u001b[0m         \u001b[0mncalls\u001b[0m\u001b[1;33m[\u001b[0m\u001b[1;36m0\u001b[0m\u001b[1;33m]\u001b[0m \u001b[1;33m+=\u001b[0m \u001b[1;36m1\u001b[0m\u001b[1;33m\u001b[0m\u001b[1;33m\u001b[0m\u001b[0m\n\u001b[1;32m--> 461\u001b[1;33m         \u001b[1;32mreturn\u001b[0m \u001b[0mfunction\u001b[0m\u001b[1;33m(\u001b[0m\u001b[1;33m*\u001b[0m\u001b[1;33m(\u001b[0m\u001b[0mwrapper_args\u001b[0m \u001b[1;33m+\u001b[0m \u001b[0margs\u001b[0m\u001b[1;33m)\u001b[0m\u001b[1;33m)\u001b[0m\u001b[1;33m\u001b[0m\u001b[1;33m\u001b[0m\u001b[0m\n\u001b[0m\u001b[0;32m    462\u001b[0m \u001b[1;33m\u001b[0m\u001b[0m\n\u001b[0;32m    463\u001b[0m     \u001b[1;32mreturn\u001b[0m \u001b[0mncalls\u001b[0m\u001b[1;33m,\u001b[0m \u001b[0mfunction_wrapper\u001b[0m\u001b[1;33m\u001b[0m\u001b[1;33m\u001b[0m\u001b[0m\n",
      "\u001b[1;32mE:\\PROGRAMMING PROJECT\\Jupyter project\\BMSTU\\5th year\\Gun Projecting\\modules\\solver.py\u001b[0m in \u001b[0;36m__minimum_mass\u001b[1;34m(self, initial_guess)\u001b[0m\n\u001b[0;32m     86\u001b[0m             \u001b[1;32mreturn\u001b[0m \u001b[1;36m2e10\u001b[0m\u001b[1;33m\u001b[0m\u001b[1;33m\u001b[0m\u001b[0m\n\u001b[0;32m     87\u001b[0m \u001b[1;33m\u001b[0m\u001b[0m\n\u001b[1;32m---> 88\u001b[1;33m         \u001b[0mself\u001b[0m\u001b[1;33m.\u001b[0m\u001b[0m_min_criterion\u001b[0m \u001b[1;33m=\u001b[0m \u001b[0mself\u001b[0m\u001b[1;33m.\u001b[0m\u001b[0mcannon_mass\u001b[0m\u001b[1;33m(\u001b[0m\u001b[0mresult_dict\u001b[0m\u001b[1;33m)\u001b[0m\u001b[1;33m\u001b[0m\u001b[1;33m\u001b[0m\u001b[0m\n\u001b[0m\u001b[0;32m     89\u001b[0m \u001b[1;33m\u001b[0m\u001b[0m\n\u001b[0;32m     90\u001b[0m         \u001b[0mdiff_velocity\u001b[0m \u001b[1;33m=\u001b[0m \u001b[0mself\u001b[0m\u001b[1;33m.\u001b[0m\u001b[0minitial_parametrs\u001b[0m\u001b[1;33m[\u001b[0m\u001b[1;34m'stop_conditions'\u001b[0m\u001b[1;33m]\u001b[0m\u001b[1;33m[\u001b[0m\u001b[1;34m'v_p'\u001b[0m\u001b[1;33m]\u001b[0m \u001b[1;33m-\u001b[0m \u001b[0mresult_dict\u001b[0m\u001b[1;33m[\u001b[0m\u001b[1;34m'layers'\u001b[0m\u001b[1;33m]\u001b[0m\u001b[1;33m[\u001b[0m\u001b[1;33m-\u001b[0m\u001b[1;36m1\u001b[0m\u001b[1;33m]\u001b[0m\u001b[1;33m[\u001b[0m\u001b[1;34m'u'\u001b[0m\u001b[1;33m]\u001b[0m\u001b[1;33m[\u001b[0m\u001b[1;33m-\u001b[0m\u001b[1;36m1\u001b[0m\u001b[1;33m]\u001b[0m\u001b[1;33m\u001b[0m\u001b[1;33m\u001b[0m\u001b[0m\n",
      "\u001b[1;32mE:\\PROGRAMMING PROJECT\\Jupyter project\\BMSTU\\5th year\\Gun Projecting\\modules\\solver.py\u001b[0m in \u001b[0;36mcannon_mass\u001b[1;34m(self, result_dict)\u001b[0m\n\u001b[0;32m    121\u001b[0m \u001b[1;33m\u001b[0m\u001b[0m\n\u001b[0;32m    122\u001b[0m         \u001b[0mcannon\u001b[0m \u001b[1;33m=\u001b[0m \u001b[0mCannon\u001b[0m\u001b[1;33m(\u001b[0m\u001b[0mdiametr\u001b[0m\u001b[1;33m,\u001b[0m \u001b[0mmatrix_x\u001b[0m\u001b[1;33m,\u001b[0m \u001b[0mmatrix_p\u001b[0m\u001b[1;33m)\u001b[0m\u001b[1;33m\u001b[0m\u001b[1;33m\u001b[0m\u001b[0m\n\u001b[1;32m--> 123\u001b[1;33m         \u001b[0mcannon\u001b[0m\u001b[1;33m.\u001b[0m\u001b[0mcannon_geometry\u001b[0m\u001b[1;33m(\u001b[0m\u001b[1;33m)\u001b[0m\u001b[1;33m\u001b[0m\u001b[1;33m\u001b[0m\u001b[0m\n\u001b[0m\u001b[0;32m    124\u001b[0m         \u001b[0mcannon\u001b[0m\u001b[1;33m.\u001b[0m\u001b[0mget_mass\u001b[0m\u001b[1;33m(\u001b[0m\u001b[1;33m)\u001b[0m\u001b[1;33m\u001b[0m\u001b[1;33m\u001b[0m\u001b[0m\n\u001b[0;32m    125\u001b[0m         \u001b[1;32mreturn\u001b[0m \u001b[0mcannon\u001b[0m\u001b[1;33m.\u001b[0m\u001b[0mmass\u001b[0m\u001b[1;33m\u001b[0m\u001b[1;33m\u001b[0m\u001b[0m\n",
      "\u001b[1;32mE:\\PROGRAMMING PROJECT\\Jupyter project\\BMSTU\\5th year\\Gun Projecting\\modules\\solver.py\u001b[0m in \u001b[0;36mcannon_geometry\u001b[1;34m(self)\u001b[0m\n\u001b[0;32m    207\u001b[0m \u001b[1;33m\u001b[0m\u001b[0m\n\u001b[0;32m    208\u001b[0m         \u001b[0mself\u001b[0m\u001b[1;33m.\u001b[0m\u001b[0m__inside_geometry\u001b[0m\u001b[1;33m(\u001b[0m\u001b[1;33m)\u001b[0m\u001b[1;33m\u001b[0m\u001b[1;33m\u001b[0m\u001b[0m\n\u001b[1;32m--> 209\u001b[1;33m         \u001b[0mself\u001b[0m\u001b[1;33m.\u001b[0m\u001b[0m__outside_geometry\u001b[0m\u001b[1;33m(\u001b[0m\u001b[1;33m)\u001b[0m\u001b[1;33m\u001b[0m\u001b[1;33m\u001b[0m\u001b[0m\n\u001b[0m\u001b[0;32m    210\u001b[0m \u001b[1;33m\u001b[0m\u001b[0m\n\u001b[0;32m    211\u001b[0m         \u001b[0mself\u001b[0m\u001b[1;33m.\u001b[0m\u001b[0mcoordinate\u001b[0m \u001b[1;33m=\u001b[0m \u001b[0mnp\u001b[0m\u001b[1;33m.\u001b[0m\u001b[0munique\u001b[0m\u001b[1;33m(\u001b[0m\u001b[1;33m[\u001b[0m\u001b[0mself\u001b[0m\u001b[1;33m.\u001b[0m\u001b[0mr_inside_coordinate\u001b[0m\u001b[1;33m,\u001b[0m \u001b[0mself\u001b[0m\u001b[1;33m.\u001b[0m\u001b[0mr_outside_coordinate\u001b[0m\u001b[1;33m]\u001b[0m\u001b[1;33m)\u001b[0m\u001b[1;33m\u001b[0m\u001b[1;33m\u001b[0m\u001b[0m\n",
      "\u001b[1;32mE:\\PROGRAMMING PROJECT\\Jupyter project\\BMSTU\\5th year\\Gun Projecting\\modules\\solver.py\u001b[0m in \u001b[0;36m__outside_geometry\u001b[1;34m(self)\u001b[0m\n\u001b[0;32m    195\u001b[0m         \u001b[0msqr\u001b[0m \u001b[1;33m=\u001b[0m \u001b[1;33m(\u001b[0m\u001b[1;36m3\u001b[0m\u001b[1;33m*\u001b[0m\u001b[0mself\u001b[0m\u001b[1;33m.\u001b[0m\u001b[0msigma_steel\u001b[0m \u001b[1;33m+\u001b[0m \u001b[1;36m2\u001b[0m\u001b[1;33m*\u001b[0m\u001b[0mpressure_inside\u001b[0m\u001b[1;33m)\u001b[0m \u001b[1;33m/\u001b[0m \u001b[1;33m(\u001b[0m\u001b[1;36m3\u001b[0m\u001b[1;33m*\u001b[0m\u001b[0mself\u001b[0m\u001b[1;33m.\u001b[0m\u001b[0msigma_steel\u001b[0m \u001b[1;33m-\u001b[0m \u001b[1;36m4\u001b[0m\u001b[1;33m*\u001b[0m\u001b[0mpressure_inside\u001b[0m\u001b[1;33m)\u001b[0m\u001b[1;33m\u001b[0m\u001b[1;33m\u001b[0m\u001b[0m\n\u001b[0;32m    196\u001b[0m \u001b[1;33m\u001b[0m\u001b[0m\n\u001b[1;32m--> 197\u001b[1;33m         \u001b[1;32mif\u001b[0m \u001b[0msqr\u001b[0m \u001b[1;33m<\u001b[0m \u001b[1;36m0\u001b[0m\u001b[1;33m:\u001b[0m\u001b[1;33m\u001b[0m\u001b[1;33m\u001b[0m\u001b[0m\n\u001b[0m\u001b[0;32m    198\u001b[0m             \u001b[1;32mraise\u001b[0m \u001b[0mValueError\u001b[0m\u001b[1;33m(\u001b[0m\u001b[1;34m\"pressure in tube destroy cannon\"\u001b[0m\u001b[1;33m)\u001b[0m\u001b[1;33m\u001b[0m\u001b[1;33m\u001b[0m\u001b[0m\n\u001b[0;32m    199\u001b[0m         \u001b[0mradius_inside\u001b[0m \u001b[1;33m=\u001b[0m \u001b[0mnp\u001b[0m\u001b[1;33m.\u001b[0m\u001b[0minterp\u001b[0m\u001b[1;33m(\u001b[0m\u001b[0mself\u001b[0m\u001b[1;33m.\u001b[0m\u001b[0mr_outside_coordinate\u001b[0m\u001b[1;33m,\u001b[0m \u001b[0mself\u001b[0m\u001b[1;33m.\u001b[0m\u001b[0mr_inside_coordinate\u001b[0m\u001b[1;33m,\u001b[0m \u001b[0mself\u001b[0m\u001b[1;33m.\u001b[0m\u001b[0mr_inside\u001b[0m\u001b[1;33m)\u001b[0m\u001b[1;33m\u001b[0m\u001b[1;33m\u001b[0m\u001b[0m\n",
      "\u001b[1;31mValueError\u001b[0m: The truth value of an array with more than one element is ambiguous. Use a.any() or a.all()"
     ]
    }
   ],
   "source": [
    "%%time\n",
    "\n",
    "for i in trange(2):\n",
    "    initial_dict = copy.deepcopy(initial_dict_static)\n",
    "    initial_dict['powders'][0]['dbname'] = powders_names[i]\n",
    "    initial_dict['powders'][0]['omega'] = wq_0[i]*q\n",
    "    initial_dict['init_conditions']['W_0'] = wq_0[i]*q/ro_0[i]\n",
    "    solv = solver.Solver(initial_dict)\n",
    "    solv.solution()\n",
    "    optim_parametrs.append(solv.get_solution())\n"
   ]
  },
  {
   "cell_type": "code",
   "execution_count": null,
   "id": "296a4605",
   "metadata": {},
   "outputs": [],
   "source": [
    "5 * None"
   ]
  },
  {
   "cell_type": "markdown",
   "id": "a96cfcac",
   "metadata": {},
   "source": [
    "__Выбор лучшего решения__"
   ]
  },
  {
   "cell_type": "code",
   "execution_count": null,
   "id": "6edb6fd4",
   "metadata": {},
   "outputs": [],
   "source": [
    "hi = 2\n",
    "d = 0.125"
   ]
  },
  {
   "cell_type": "code",
   "execution_count": null,
   "id": "9a537744",
   "metadata": {},
   "outputs": [],
   "source": [
    "l_2 = 0.55*d if np.sqrt(hi) <= 1.25 else 2*d"
   ]
  },
  {
   "cell_type": "code",
   "execution_count": null,
   "id": "5f7babc6",
   "metadata": {},
   "outputs": [],
   "source": [
    "del_radius = np.array([0, 12, 2, 15])\n",
    "d = 20"
   ]
  },
  {
   "cell_type": "code",
   "execution_count": null,
   "id": "9d1b8a2a",
   "metadata": {},
   "outputs": [],
   "source": [
    "for i in range(len(del_radius)):\n",
    "    del_radius[i] = max(del_radius[i], 0.5*d) "
   ]
  },
  {
   "cell_type": "code",
   "execution_count": null,
   "id": "b6ec65de",
   "metadata": {},
   "outputs": [],
   "source": [
    "del_radius"
   ]
  },
  {
   "cell_type": "code",
   "execution_count": null,
   "id": "c8206023",
   "metadata": {},
   "outputs": [],
   "source": [
    "a = [5, 8,1, 89]\n",
    "b = np.array([5, 8, 6])"
   ]
  },
  {
   "cell_type": "code",
   "execution_count": null,
   "id": "6bec3ba9",
   "metadata": {},
   "outputs": [],
   "source": [
    "a +b"
   ]
  },
  {
   "cell_type": "code",
   "execution_count": null,
   "id": "c8272c63",
   "metadata": {},
   "outputs": [],
   "source": [
    "x = np.array([4, 6, 8, 9, 10])"
   ]
  },
  {
   "cell_type": "code",
   "execution_count": null,
   "id": "0807c403",
   "metadata": {},
   "outputs": [],
   "source": [
    "x[1:] - x[:-1]"
   ]
  },
  {
   "cell_type": "code",
   "execution_count": null,
   "id": "bef90840",
   "metadata": {},
   "outputs": [],
   "source": [
    "srt1 = 'p'\n",
    "str2 = 'a'\n",
    "arr = ['x', 'p', 'd']"
   ]
  },
  {
   "cell_type": "code",
   "execution_count": null,
   "id": "810d3b58",
   "metadata": {},
   "outputs": [],
   "source": [
    "srt1 in arr "
   ]
  },
  {
   "cell_type": "code",
   "execution_count": null,
   "id": "e3fee887",
   "metadata": {},
   "outputs": [],
   "source": [
    "a = np.array([\n",
    "    [3, 6, 7, 4, 8],\n",
    "    [5, 10, 3, 7, 9],\n",
    "    [17, 9, 1, 16, 7]\n",
    "])"
   ]
  },
  {
   "cell_type": "code",
   "execution_count": null,
   "id": "13aa4d6f",
   "metadata": {},
   "outputs": [],
   "source": [
    "index = np.argmax(a)\n",
    "index"
   ]
  },
  {
   "cell_type": "code",
   "execution_count": null,
   "id": "565088cb",
   "metadata": {},
   "outputs": [],
   "source": [
    "a.shape"
   ]
  },
  {
   "cell_type": "code",
   "execution_count": null,
   "id": "14411793",
   "metadata": {},
   "outputs": [],
   "source": [
    "border = index%a.shape[1]\n",
    "count = index//a.shape[1]"
   ]
  },
  {
   "cell_type": "code",
   "execution_count": null,
   "id": "5aea14ca",
   "metadata": {},
   "outputs": [],
   "source": [
    "border, count"
   ]
  },
  {
   "cell_type": "code",
   "execution_count": null,
   "id": "ed13c79a",
   "metadata": {},
   "outputs": [],
   "source": [
    "a[count, border]"
   ]
  },
  {
   "cell_type": "code",
   "execution_count": null,
   "id": "f4c14555",
   "metadata": {},
   "outputs": [],
   "source": [
    "np.argmax(a[1:], axis=0)"
   ]
  },
  {
   "cell_type": "code",
   "execution_count": 10,
   "id": "f5d5920d",
   "metadata": {},
   "outputs": [],
   "source": [
    "n = np.array([[7,8]])"
   ]
  },
  {
   "cell_type": "code",
   "execution_count": 9,
   "id": "402591da",
   "metadata": {},
   "outputs": [],
   "source": [
    "a = np.array([5, 7, 8])"
   ]
  },
  {
   "cell_type": "code",
   "execution_count": 11,
   "id": "c02cacdb",
   "metadata": {},
   "outputs": [
    {
     "data": {
      "text/plain": [
       "False"
      ]
     },
     "execution_count": 11,
     "metadata": {},
     "output_type": "execute_result"
    }
   ],
   "source": [
    "a[a<0] is None"
   ]
  },
  {
   "cell_type": "code",
   "execution_count": null,
   "id": "24aedfc6",
   "metadata": {},
   "outputs": [],
   "source": []
  }
 ],
 "metadata": {
  "kernelspec": {
   "display_name": "Python 3 (ipykernel)",
   "language": "python",
   "name": "python3"
  },
  "language_info": {
   "codemirror_mode": {
    "name": "ipython",
    "version": 3
   },
   "file_extension": ".py",
   "mimetype": "text/x-python",
   "name": "python",
   "nbconvert_exporter": "python",
   "pygments_lexer": "ipython3",
   "version": "3.8.3"
  }
 },
 "nbformat": 4,
 "nbformat_minor": 5
}
