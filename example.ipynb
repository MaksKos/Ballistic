{
 "cells": [
  {
   "cell_type": "code",
   "execution_count": 1,
   "id": "c53e2078",
   "metadata": {},
   "outputs": [],
   "source": [
    "import copy\n",
    "import numpy as np\n",
    "import matplotlib.pyplot as plt\n",
    "from modules import solver\n",
    "from pyballistics import ozvb_lagrange, get_db_powder, get_powder_names\n",
    "from tqdm.notebook import tqdm, trange"
   ]
  },
  {
   "cell_type": "code",
   "execution_count": 2,
   "id": "98936642",
   "metadata": {},
   "outputs": [
    {
     "name": "stdout",
     "output_type": "stream",
     "text": [
      " \n",
      "version 1.0\n",
      "\n",
      "This module solves inverse problem of internal ballistics.\n",
      "\n",
      "\n"
     ]
    }
   ],
   "source": [
    "print(solver.__doc__)"
   ]
  },
  {
   "cell_type": "markdown",
   "id": "0f1c1561",
   "metadata": {},
   "source": [
    "## Исходные данные\n",
    "задаются начальные данные по орудию и формируется словарь"
   ]
  },
  {
   "cell_type": "markdown",
   "id": "0c6b1d31",
   "metadata": {},
   "source": [
    "__Основные парметры__"
   ]
  },
  {
   "cell_type": "code",
   "execution_count": 3,
   "id": "14e28c73",
   "metadata": {},
   "outputs": [],
   "source": [
    "d = 125*1e-3          # калибр м\n",
    "q = 4.85           # вес снаряда кг\n",
    "velocity_pm = 1700         # дульная скорость снаряда\n",
    "n_s = 1           # нарезное орудие\n",
    "max_pressure = 1000*1e6    # максимальное давление Па\n",
    "tube_lenght = 5543*10e-3      # длина трубы  "
   ]
  },
  {
   "cell_type": "markdown",
   "id": "d2480db8",
   "metadata": {},
   "source": [
    "__Дополнительные параметры__"
   ]
  },
  {
   "cell_type": "code",
   "execution_count": 4,
   "id": "6dff6d0c",
   "metadata": {},
   "outputs": [],
   "source": [
    "# !! fix it\n",
    "p_fors = 10*1e6      #давление форсирования (гладкоствольные 7-15 МПа)\n",
    "\n",
    "#нормализация (в данный момент не используется)\n",
    "norm_ro = 1000 \n",
    "norm_w = 1"
   ]
  },
  {
   "cell_type": "markdown",
   "id": "cf12454b",
   "metadata": {},
   "source": [
    "__Словарь__"
   ]
  },
  {
   "cell_type": "code",
   "execution_count": 5,
   "id": "ff7a6a8f",
   "metadata": {},
   "outputs": [],
   "source": [
    "initial_dict_static =  {\n",
    "   'powders': \n",
    "    [\n",
    "       {'omega': None, 'dbname': None}\n",
    "    ],\n",
    "  'init_conditions': \n",
    "    {\n",
    "       'q': q,\n",
    "       'd': d,\n",
    "       'W_0': None ,\n",
    "       'phi_1': 1.0,\n",
    "       'p_0': p_fors, \n",
    "       'n_S': 1\n",
    "    },\n",
    "  'igniter': \n",
    "    {\n",
    "       'p_ign_0': 5000000.0 #check it \n",
    "    },\n",
    "  \n",
    "  'meta_lagrange': \n",
    "    {\n",
    "       'CFL': 0.9, \n",
    "       'n_cells': 300\n",
    "    },\n",
    "  'stop_conditions': \n",
    "    {\n",
    "       'x_p': tube_lenght,\n",
    "       'steps_max': 8000,   \n",
    "       't_max': 0.05,\n",
    "       'p_max': max_pressure,\n",
    "        'v_p': velocity_pm,\n",
    "    }\n",
    " }"
   ]
  },
  {
   "cell_type": "markdown",
   "id": "ec2ebed8",
   "metadata": {},
   "source": [
    "## Решение обратной задачи"
   ]
  },
  {
   "cell_type": "markdown",
   "id": "3e8cd07c",
   "metadata": {},
   "source": [
    "__Инициализация массивов под решение__"
   ]
  },
  {
   "cell_type": "code",
   "execution_count": 6,
   "id": "07d547fc",
   "metadata": {},
   "outputs": [],
   "source": [
    "powders_names = get_powder_names()\n",
    "n = len(powders_names)\n",
    "wq_0 = 0.9\n",
    "ro_0 = 500"
   ]
  },
  {
   "cell_type": "code",
   "execution_count": 7,
   "id": "41a07b3b",
   "metadata": {},
   "outputs": [],
   "source": [
    "optim_parametrs = list()"
   ]
  },
  {
   "cell_type": "markdown",
   "id": "23669ee2",
   "metadata": {},
   "source": [
    "__Цикл решения__:\n",
    "\n",
    "    1. Внешний цикл по порохам\n",
    "    2. решение церез штафную функцию"
   ]
  },
  {
   "cell_type": "code",
   "execution_count": null,
   "id": "7a4ff66b",
   "metadata": {},
   "outputs": [
    {
     "data": {
      "application/vnd.jupyter.widget-view+json": {
       "model_id": "c9257b0ad37f499c88e570b2d4ff58bf",
       "version_major": 2,
       "version_minor": 0
      },
      "text/plain": [
       "  0%|          | 0/102 [00:00<?, ?it/s]"
      ]
     },
     "metadata": {},
     "output_type": "display_data"
    },
    {
     "name": "stdout",
     "output_type": "stream",
     "text": [
      "Warning: Maximum number of function evaluations has been exceeded.\n",
      "No success in result\n",
      "Warning: Maximum number of function evaluations has been exceeded.\n",
      "No success in result\n",
      "Warning: Maximum number of function evaluations has been exceeded.\n",
      "No success in result\n"
     ]
    }
   ],
   "source": [
    "%%time\n",
    "\n",
    "for i in trange(len(powders_names)):\n",
    "    initial_dict = copy.deepcopy(initial_dict_static)\n",
    "    initial_dict['powders'][0]['dbname'] = powders_names[i]\n",
    "    initial_dict['powders'][0]['omega'] = wq_0*q\n",
    "    initial_dict['init_conditions']['W_0'] = wq_0*q/ro_0\n",
    "    try:\n",
    "        solv = solver.Solver(initial_dict)\n",
    "        solv.solution()\n",
    "    except(ValueError, TypeError):\n",
    "        optim_parametrs.append(None)\n",
    "        continue\n",
    "    else:\n",
    "        optim_parametrs.append(solv.get_solution())\n"
   ]
  },
  {
   "cell_type": "markdown",
   "id": "a96cfcac",
   "metadata": {},
   "source": [
    "__Выбор лучшего решения__"
   ]
  },
  {
   "cell_type": "code",
   "execution_count": null,
   "id": "f5f55eaa",
   "metadata": {},
   "outputs": [],
   "source": []
  }
 ],
 "metadata": {
  "kernelspec": {
   "display_name": "Python 3 (ipykernel)",
   "language": "python",
   "name": "python3"
  },
  "language_info": {
   "codemirror_mode": {
    "name": "ipython",
    "version": 3
   },
   "file_extension": ".py",
   "mimetype": "text/x-python",
   "name": "python",
   "nbconvert_exporter": "python",
   "pygments_lexer": "ipython3",
   "version": "3.8.3"
  }
 },
 "nbformat": 4,
 "nbformat_minor": 5
}
