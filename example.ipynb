{
 "cells": [
  {
   "cell_type": "code",
   "execution_count": 1,
   "id": "c53e2078",
   "metadata": {},
   "outputs": [],
   "source": [
    "import copy\n",
    "import numpy as np\n",
    "import matplotlib.pyplot as plt\n",
    "import pandas as pd\n",
    "from modules import solver, presolver\n",
    "from pyballistics import ozvb_lagrange, get_powder_names\n",
    "from tqdm import tqdm"
   ]
  },
  {
   "cell_type": "markdown",
   "id": "0f1c1561",
   "metadata": {},
   "source": [
    "## Нахождение начальных точек\n",
    "формируется таблица с начальными точками для каждого пороха"
   ]
  },
  {
   "cell_type": "code",
   "execution_count": 2,
   "id": "4de9789f",
   "metadata": {},
   "outputs": [
    {
     "data": {
      "text/html": [
       "<div>\n",
       "<style scoped>\n",
       "    .dataframe tbody tr th:only-of-type {\n",
       "        vertical-align: middle;\n",
       "    }\n",
       "\n",
       "    .dataframe tbody tr th {\n",
       "        vertical-align: top;\n",
       "    }\n",
       "\n",
       "    .dataframe thead th {\n",
       "        text-align: right;\n",
       "    }\n",
       "</style>\n",
       "<table border=\"1\" class=\"dataframe\">\n",
       "  <thead>\n",
       "    <tr style=\"text-align: right;\">\n",
       "      <th></th>\n",
       "      <th>dbname</th>\n",
       "      <th>wq</th>\n",
       "      <th>ro</th>\n",
       "      <th>reason</th>\n",
       "      <th>success</th>\n",
       "    </tr>\n",
       "  </thead>\n",
       "  <tbody>\n",
       "  </tbody>\n",
       "</table>\n",
       "</div>"
      ],
      "text/plain": [
       "Empty DataFrame\n",
       "Columns: [dbname, wq, ro, reason, success]\n",
       "Index: []"
      ]
     },
     "execution_count": 2,
     "metadata": {},
     "output_type": "execute_result"
    }
   ],
   "source": [
    "tabel_init_points = pd.read_csv(\"data/init_points.csv\")\n",
    "tabel_init_points.loc[tabel_init_points['success']==False]"
   ]
  },
  {
   "cell_type": "markdown",
   "id": "ec2ebed8",
   "metadata": {},
   "source": [
    "## Решение обратной задачи"
   ]
  },
  {
   "cell_type": "code",
   "execution_count": 3,
   "id": "2eed208a",
   "metadata": {},
   "outputs": [],
   "source": [
    "tabel_result = list()\n",
    "core = 2"
   ]
  },
  {
   "cell_type": "code",
   "execution_count": 1,
   "id": "655042ef",
   "metadata": {},
   "outputs": [],
   "source": [
    "def step(row):\n",
    "    initial_dict = presolver.init_dict(row['dbname'], row['wq'], row['ro'])\n",
    "    solv = solver.Solver(initial_dict)\n",
    "    solv.solution()\n",
    "    return solv.get_solution()   "
   ]
  },
  {
   "cell_type": "code",
   "execution_count": null,
   "id": "92c7c72c",
   "metadata": {},
   "outputs": [],
   "source": [
    "%%time\n",
    "tabel = Parallel(n_jobs=core)(delayed(step)(row) for i, row in tabel_init_points.iterrows())"
   ]
  },
  {
   "cell_type": "code",
   "execution_count": 4,
   "id": "7a4ff66b",
   "metadata": {},
   "outputs": [
    {
     "name": "stderr",
     "output_type": "stream",
     "text": [
      "1it [00:33, 33.33s/it]"
     ]
    },
    {
     "name": "stdout",
     "output_type": "stream",
     "text": [
      "Optimization terminated successfully.\n",
      "         Current function value: 56377.918725\n",
      "         Iterations: 105\n",
      "         Function evaluations: 200\n"
     ]
    },
    {
     "name": "stderr",
     "output_type": "stream",
     "text": [
      "\r",
      "2it [01:02, 31.07s/it]"
     ]
    },
    {
     "name": "stdout",
     "output_type": "stream",
     "text": [
      "Optimization terminated successfully.\n",
      "         Current function value: 56377.918725\n",
      "         Iterations: 93\n",
      "         Function evaluations: 174\n"
     ]
    },
    {
     "name": "stderr",
     "output_type": "stream",
     "text": [
      "\r",
      "3it [01:31, 29.95s/it]"
     ]
    },
    {
     "name": "stdout",
     "output_type": "stream",
     "text": [
      "Optimization terminated successfully.\n",
      "         Current function value: 1889.718702\n",
      "         Iterations: 86\n",
      "         Function evaluations: 166\n"
     ]
    },
    {
     "name": "stderr",
     "output_type": "stream",
     "text": [
      "\r",
      "4it [01:57, 28.27s/it]"
     ]
    },
    {
     "name": "stdout",
     "output_type": "stream",
     "text": [
      "Optimization terminated successfully.\n",
      "         Current function value: 1801.638500\n",
      "         Iterations: 91\n",
      "         Function evaluations: 174\n"
     ]
    },
    {
     "name": "stderr",
     "output_type": "stream",
     "text": [
      "\r",
      "5it [02:20, 26.35s/it]"
     ]
    },
    {
     "name": "stdout",
     "output_type": "stream",
     "text": [
      "Optimization terminated successfully.\n",
      "         Current function value: 1859.456386\n",
      "         Iterations: 78\n",
      "         Function evaluations: 149\n",
      "Optimization terminated successfully.\n",
      "         Current function value: 18367.414202\n",
      "         Iterations: 74\n",
      "         Function evaluations: 147\n"
     ]
    },
    {
     "name": "stderr",
     "output_type": "stream",
     "text": [
      "7it [03:22, 28.58s/it]"
     ]
    },
    {
     "name": "stdout",
     "output_type": "stream",
     "text": [
      "Optimization terminated successfully.\n",
      "         Current function value: 1538.994384\n",
      "         Iterations: 92\n",
      "         Function evaluations: 177\n"
     ]
    },
    {
     "name": "stderr",
     "output_type": "stream",
     "text": [
      "\r",
      "8it [03:42, 25.90s/it]"
     ]
    },
    {
     "name": "stdout",
     "output_type": "stream",
     "text": [
      "Optimization terminated successfully.\n",
      "         Current function value: 4996.048446\n",
      "         Iterations: 73\n",
      "         Function evaluations: 141\n"
     ]
    },
    {
     "name": "stderr",
     "output_type": "stream",
     "text": [
      "E:\\PROGRAMMING PROJECT\\Jupyter project\\BMSTU\\5th year\\Gun Projecting\\modules\\solver.py:242: RuntimeWarning: divide by zero encountered in true_divide\n",
      "  self.n_real = self.pressure_tube/self.pressure\n"
     ]
    },
    {
     "name": "stdout",
     "output_type": "stream",
     "text": [
      "Optimization terminated successfully.\n",
      "         Current function value: 29869.114167\n",
      "         Iterations: 65\n",
      "         Function evaluations: 132\n"
     ]
    },
    {
     "name": "stderr",
     "output_type": "stream",
     "text": [
      "10it [05:12, 33.66s/it]"
     ]
    },
    {
     "name": "stdout",
     "output_type": "stream",
     "text": [
      "Optimization terminated successfully.\n",
      "         Current function value: 1390.816747\n",
      "         Iterations: 69\n",
      "         Function evaluations: 140\n"
     ]
    },
    {
     "name": "stderr",
     "output_type": "stream",
     "text": [
      "\r",
      "11it [05:35, 30.21s/it]"
     ]
    },
    {
     "name": "stdout",
     "output_type": "stream",
     "text": [
      "Optimization terminated successfully.\n",
      "         Current function value: 1209.762875\n",
      "         Iterations: 72\n",
      "         Function evaluations: 144\n"
     ]
    },
    {
     "name": "stderr",
     "output_type": "stream",
     "text": [
      "\r",
      "12it [06:04, 29.98s/it]"
     ]
    },
    {
     "name": "stdout",
     "output_type": "stream",
     "text": [
      "Optimization terminated successfully.\n",
      "         Current function value: 1037.758389\n",
      "         Iterations: 88\n",
      "         Function evaluations: 178\n"
     ]
    },
    {
     "name": "stderr",
     "output_type": "stream",
     "text": [
      "\r",
      "13it [06:37, 30.92s/it]"
     ]
    },
    {
     "name": "stdout",
     "output_type": "stream",
     "text": [
      "Optimization terminated successfully.\n",
      "         Current function value: 1272.295585\n",
      "         Iterations: 101\n",
      "         Function evaluations: 201\n"
     ]
    },
    {
     "name": "stderr",
     "output_type": "stream",
     "text": [
      "\r",
      "14it [07:16, 33.16s/it]"
     ]
    },
    {
     "name": "stdout",
     "output_type": "stream",
     "text": [
      "Optimization terminated successfully.\n",
      "         Current function value: 1032.024177\n",
      "         Iterations: 87\n",
      "         Function evaluations: 175\n",
      "Optimization terminated successfully.\n",
      "         Current function value: 6279.923586\n",
      "         Iterations: 57\n",
      "         Function evaluations: 114\n"
     ]
    },
    {
     "name": "stderr",
     "output_type": "stream",
     "text": [
      "16it [08:20, 32.16s/it]"
     ]
    },
    {
     "name": "stdout",
     "output_type": "stream",
     "text": [
      "Optimization terminated successfully.\n",
      "         Current function value: 1261.483063\n",
      "         Iterations: 82\n",
      "         Function evaluations: 159\n",
      "Optimization terminated successfully.\n",
      "         Current function value: 3870.740135\n",
      "         Iterations: 70\n",
      "         Function evaluations: 133\n"
     ]
    },
    {
     "name": "stderr",
     "output_type": "stream",
     "text": [
      "\r",
      "17it [08:59, 34.23s/it]"
     ]
    },
    {
     "name": "stdout",
     "output_type": "stream",
     "text": [
      "Optimization terminated successfully.\n",
      "         Current function value: 8018.451231\n",
      "         Iterations: 68\n",
      "         Function evaluations: 137\n"
     ]
    },
    {
     "name": "stderr",
     "output_type": "stream",
     "text": [
      "19it [10:25, 38.45s/it]"
     ]
    },
    {
     "name": "stdout",
     "output_type": "stream",
     "text": [
      "Optimization terminated successfully.\n",
      "         Current function value: 14227.496215\n",
      "         Iterations: 106\n",
      "         Function evaluations: 207\n",
      "Optimization terminated successfully.\n",
      "         Current function value: 8035.788924\n",
      "         Iterations: 78\n",
      "         Function evaluations: 150\n"
     ]
    },
    {
     "name": "stderr",
     "output_type": "stream",
     "text": [
      "\r",
      "20it [11:13, 41.33s/it]"
     ]
    },
    {
     "name": "stdout",
     "output_type": "stream",
     "text": [
      "Optimization terminated successfully.\n",
      "         Current function value: 991.911397\n",
      "         Iterations: 75\n",
      "         Function evaluations: 144\n"
     ]
    },
    {
     "name": "stderr",
     "output_type": "stream",
     "text": [
      "22it [12:30, 39.54s/it]"
     ]
    },
    {
     "name": "stdout",
     "output_type": "stream",
     "text": [
      "Optimization terminated successfully.\n",
      "         Current function value: 805.442158\n",
      "         Iterations: 95\n",
      "         Function evaluations: 196\n"
     ]
    },
    {
     "name": "stderr",
     "output_type": "stream",
     "text": [
      "\r",
      "23it [13:03, 37.67s/it]"
     ]
    },
    {
     "name": "stdout",
     "output_type": "stream",
     "text": [
      "Optimization terminated successfully.\n",
      "         Current function value: 20459.494706\n",
      "         Iterations: 98\n",
      "         Function evaluations: 183\n"
     ]
    },
    {
     "name": "stderr",
     "output_type": "stream",
     "text": [
      "\r",
      "24it [15:48, 75.90s/it]"
     ]
    },
    {
     "name": "stdout",
     "output_type": "stream",
     "text": [
      "Warning: Maximum number of function evaluations has been exceeded.\n",
      "No success in result\n"
     ]
    },
    {
     "name": "stderr",
     "output_type": "stream",
     "text": [
      "\r",
      "25it [16:17, 61.69s/it]"
     ]
    },
    {
     "name": "stdout",
     "output_type": "stream",
     "text": [
      "Optimization terminated successfully.\n",
      "         Current function value: 1451.777897\n",
      "         Iterations: 78\n",
      "         Function evaluations: 158\n"
     ]
    },
    {
     "name": "stderr",
     "output_type": "stream",
     "text": [
      "\r",
      "26it [16:47, 52.31s/it]"
     ]
    },
    {
     "name": "stdout",
     "output_type": "stream",
     "text": [
      "Optimization terminated successfully.\n",
      "         Current function value: 924.597944\n",
      "         Iterations: 99\n",
      "         Function evaluations: 194\n",
      "Optimization terminated successfully.\n",
      "         Current function value: 599.825373\n",
      "         Iterations: 85\n",
      "         Function evaluations: 176\n"
     ]
    },
    {
     "name": "stderr",
     "output_type": "stream",
     "text": [
      "\r",
      "27it [17:35, 50.96s/it]"
     ]
    },
    {
     "name": "stdout",
     "output_type": "stream",
     "text": [
      "Optimization terminated successfully.\n",
      "         Current function value: 536.590403\n",
      "         Iterations: 78\n",
      "         Function evaluations: 162\n"
     ]
    },
    {
     "name": "stderr",
     "output_type": "stream",
     "text": [
      "29it [19:08, 47.86s/it]"
     ]
    },
    {
     "name": "stdout",
     "output_type": "stream",
     "text": [
      "Optimization terminated successfully.\n",
      "         Current function value: 824.062577\n",
      "         Iterations: 109\n",
      "         Function evaluations: 221\n"
     ]
    },
    {
     "name": "stderr",
     "output_type": "stream",
     "text": [
      "\r",
      "30it [19:38, 42.61s/it]"
     ]
    },
    {
     "name": "stdout",
     "output_type": "stream",
     "text": [
      "Optimization terminated successfully.\n",
      "         Current function value: 1150.813891\n",
      "         Iterations: 94\n",
      "         Function evaluations: 185\n",
      "Optimization terminated successfully.\n",
      "         Current function value: 571.796272\n",
      "         Iterations: 83\n",
      "         Function evaluations: 166\n"
     ]
    },
    {
     "name": "stderr",
     "output_type": "stream",
     "text": [
      "\r",
      "31it [20:31, 45.83s/it]"
     ]
    },
    {
     "name": "stdout",
     "output_type": "stream",
     "text": [
      "Optimization terminated successfully.\n",
      "         Current function value: 437.836175\n",
      "         Iterations: 110\n",
      "         Function evaluations: 218\n"
     ]
    },
    {
     "name": "stderr",
     "output_type": "stream",
     "text": [
      "33it [22:24, 50.48s/it]"
     ]
    },
    {
     "name": "stdout",
     "output_type": "stream",
     "text": [
      "Optimization terminated successfully.\n",
      "         Current function value: 1156.090716\n",
      "         Iterations: 108\n",
      "         Function evaluations: 218\n",
      "Optimization terminated successfully.\n",
      "         Current function value: 401.002423\n",
      "         Iterations: 72\n",
      "         Function evaluations: 146\n"
     ]
    },
    {
     "name": "stderr",
     "output_type": "stream",
     "text": [
      "35it [23:49, 45.73s/it]"
     ]
    },
    {
     "name": "stdout",
     "output_type": "stream",
     "text": [
      "Optimization terminated successfully.\n",
      "         Current function value: 1030.833265\n",
      "         Iterations: 71\n",
      "         Function evaluations: 157\n",
      "Optimization terminated successfully.\n",
      "         Current function value: 427.723546\n",
      "         Iterations: 73\n",
      "         Function evaluations: 151\n"
     ]
    },
    {
     "name": "stderr",
     "output_type": "stream",
     "text": [
      "\r",
      "36it [24:37, 46.45s/it]"
     ]
    },
    {
     "name": "stdout",
     "output_type": "stream",
     "text": [
      "Optimization terminated successfully.\n",
      "         Current function value: 378.976980\n",
      "         Iterations: 147\n",
      "         Function evaluations: 296\n"
     ]
    },
    {
     "name": "stderr",
     "output_type": "stream",
     "text": [
      "\r",
      "37it [26:14, 61.80s/it]"
     ]
    },
    {
     "name": "stdout",
     "output_type": "stream",
     "text": [
      "Optimization terminated successfully.\n",
      "         Current function value: 410.917013\n",
      "         Iterations: 95\n",
      "         Function evaluations: 188\n"
     ]
    },
    {
     "name": "stderr",
     "output_type": "stream",
     "text": [
      "\r",
      "38it [27:14, 61.04s/it]"
     ]
    },
    {
     "name": "stdout",
     "output_type": "stream",
     "text": [
      "Optimization terminated successfully.\n",
      "         Current function value: 382.280028\n",
      "         Iterations: 71\n",
      "         Function evaluations: 138\n"
     ]
    },
    {
     "name": "stderr",
     "output_type": "stream",
     "text": [
      "40it [28:41, 52.06s/it]"
     ]
    },
    {
     "name": "stdout",
     "output_type": "stream",
     "text": [
      "Optimization terminated successfully.\n",
      "         Current function value: 1040.815023\n",
      "         Iterations: 98\n",
      "         Function evaluations: 195\n",
      "Optimization terminated successfully.\n",
      "         Current function value: 383.870866\n",
      "         Iterations: 132\n",
      "         Function evaluations: 263\n"
     ]
    },
    {
     "name": "stderr",
     "output_type": "stream",
     "text": [
      "\r",
      "41it [29:58, 59.54s/it]"
     ]
    },
    {
     "name": "stdout",
     "output_type": "stream",
     "text": [
      "Optimization terminated successfully.\n",
      "         Current function value: 347.555861\n",
      "         Iterations: 183\n",
      "         Function evaluations: 355\n"
     ]
    },
    {
     "name": "stderr",
     "output_type": "stream",
     "text": [
      "\r",
      "42it [31:35, 71.02s/it]"
     ]
    },
    {
     "name": "stdout",
     "output_type": "stream",
     "text": [
      "Optimization terminated successfully.\n",
      "         Current function value: 397.828962\n",
      "         Iterations: 70\n",
      "         Function evaluations: 140\n"
     ]
    },
    {
     "name": "stderr",
     "output_type": "stream",
     "text": [
      "\r",
      "43it [32:09, 59.91s/it]"
     ]
    },
    {
     "name": "stdout",
     "output_type": "stream",
     "text": [
      "Optimization terminated successfully.\n",
      "         Current function value: 378.514624\n",
      "         Iterations: 81\n",
      "         Function evaluations: 159\n"
     ]
    },
    {
     "name": "stderr",
     "output_type": "stream",
     "text": [
      "45it [33:25, 47.77s/it]"
     ]
    },
    {
     "name": "stdout",
     "output_type": "stream",
     "text": [
      "Optimization terminated successfully.\n",
      "         Current function value: 12008.633107\n",
      "         Iterations: 74\n",
      "         Function evaluations: 147\n",
      "Optimization terminated successfully.\n",
      "         Current function value: 380.383687\n",
      "         Iterations: 127\n",
      "         Function evaluations: 253\n"
     ]
    },
    {
     "name": "stderr",
     "output_type": "stream",
     "text": [
      "\r",
      "46it [34:45, 57.48s/it]"
     ]
    },
    {
     "name": "stdout",
     "output_type": "stream",
     "text": [
      "Optimization terminated successfully.\n",
      "         Current function value: 358.608021\n",
      "         Iterations: 85\n",
      "         Function evaluations: 175\n"
     ]
    },
    {
     "name": "stderr",
     "output_type": "stream",
     "text": [
      "\r",
      "47it [35:41, 57.02s/it]"
     ]
    },
    {
     "name": "stdout",
     "output_type": "stream",
     "text": [
      "Optimization terminated successfully.\n",
      "         Current function value: 447.226107\n",
      "         Iterations: 92\n",
      "         Function evaluations: 188\n"
     ]
    },
    {
     "name": "stderr",
     "output_type": "stream",
     "text": [
      "\r",
      "48it [36:28, 54.11s/it]"
     ]
    },
    {
     "name": "stdout",
     "output_type": "stream",
     "text": [
      "Optimization terminated successfully.\n",
      "         Current function value: 503.679348\n",
      "         Iterations: 158\n",
      "         Function evaluations: 314\n"
     ]
    },
    {
     "name": "stderr",
     "output_type": "stream",
     "text": [
      "\r",
      "49it [37:39, 58.98s/it]"
     ]
    },
    {
     "name": "stdout",
     "output_type": "stream",
     "text": [
      "Optimization terminated successfully.\n",
      "         Current function value: 425.970368\n",
      "         Iterations: 118\n",
      "         Function evaluations: 239\n"
     ]
    },
    {
     "name": "stderr",
     "output_type": "stream",
     "text": [
      "51it [39:23, 53.19s/it]"
     ]
    },
    {
     "name": "stdout",
     "output_type": "stream",
     "text": [
      "Optimization terminated successfully.\n",
      "         Current function value: 12438.576528\n",
      "         Iterations: 81\n",
      "         Function evaluations: 163\n",
      "Optimization terminated successfully.\n",
      "         Current function value: 402.726317\n",
      "         Iterations: 88\n",
      "         Function evaluations: 178\n"
     ]
    },
    {
     "name": "stderr",
     "output_type": "stream",
     "text": [
      "\r",
      "52it [40:12, 51.89s/it]"
     ]
    },
    {
     "name": "stdout",
     "output_type": "stream",
     "text": [
      "Optimization terminated successfully.\n",
      "         Current function value: 432.894074\n",
      "         Iterations: 121\n",
      "         Function evaluations: 243\n"
     ]
    },
    {
     "name": "stderr",
     "output_type": "stream",
     "text": [
      "\r",
      "53it [41:32, 60.35s/it]"
     ]
    },
    {
     "name": "stdout",
     "output_type": "stream",
     "text": [
      "Optimization terminated successfully.\n",
      "         Current function value: 476.349775\n",
      "         Iterations: 88\n",
      "         Function evaluations: 177\n"
     ]
    },
    {
     "name": "stderr",
     "output_type": "stream",
     "text": [
      "\r",
      "54it [42:26, 58.53s/it]"
     ]
    },
    {
     "name": "stdout",
     "output_type": "stream",
     "text": [
      "Optimization terminated successfully.\n",
      "         Current function value: 503.910689\n",
      "         Iterations: 121\n",
      "         Function evaluations: 245\n"
     ]
    },
    {
     "name": "stderr",
     "output_type": "stream",
     "text": [
      "\r",
      "55it [43:24, 58.38s/it]"
     ]
    },
    {
     "name": "stdout",
     "output_type": "stream",
     "text": [
      "Optimization terminated successfully.\n",
      "         Current function value: 524.280194\n",
      "         Iterations: 77\n",
      "         Function evaluations: 152\n"
     ]
    },
    {
     "name": "stderr",
     "output_type": "stream",
     "text": [
      "\r",
      "56it [44:11, 54.96s/it]"
     ]
    },
    {
     "name": "stdout",
     "output_type": "stream",
     "text": [
      "Optimization terminated successfully.\n",
      "         Current function value: 429.594815\n",
      "         Iterations: 88\n",
      "         Function evaluations: 178\n"
     ]
    },
    {
     "name": "stderr",
     "output_type": "stream",
     "text": [
      "58it [45:45, 50.03s/it]"
     ]
    },
    {
     "name": "stdout",
     "output_type": "stream",
     "text": [
      "Optimization terminated successfully.\n",
      "         Current function value: 508.011304\n",
      "         Iterations: 85\n",
      "         Function evaluations: 169\n"
     ]
    },
    {
     "name": "stderr",
     "output_type": "stream",
     "text": [
      "\r",
      "59it [46:16, 44.24s/it]"
     ]
    },
    {
     "name": "stdout",
     "output_type": "stream",
     "text": [
      "Optimization terminated successfully.\n",
      "         Current function value: 532.457911\n",
      "         Iterations: 73\n",
      "         Function evaluations: 145\n",
      "Optimization terminated successfully.\n",
      "         Current function value: 422.857743\n",
      "         Iterations: 85\n",
      "         Function evaluations: 171\n"
     ]
    },
    {
     "name": "stderr",
     "output_type": "stream",
     "text": [
      "61it [48:21, 54.61s/it]"
     ]
    },
    {
     "name": "stdout",
     "output_type": "stream",
     "text": [
      "Warning: Maximum number of function evaluations has been exceeded.\n",
      "No success in result\n"
     ]
    },
    {
     "name": "stderr",
     "output_type": "stream",
     "text": [
      "\r",
      "62it [49:14, 53.92s/it]"
     ]
    },
    {
     "name": "stdout",
     "output_type": "stream",
     "text": [
      "Optimization terminated successfully.\n",
      "         Current function value: 551.803546\n",
      "         Iterations: 109\n",
      "         Function evaluations: 218\n"
     ]
    },
    {
     "name": "stderr",
     "output_type": "stream",
     "text": [
      "\r",
      "63it [49:55, 50.15s/it]"
     ]
    },
    {
     "name": "stdout",
     "output_type": "stream",
     "text": [
      "Optimization terminated successfully.\n",
      "         Current function value: 508.765168\n",
      "         Iterations: 91\n",
      "         Function evaluations: 179\n",
      "Optimization terminated successfully.\n",
      "         Current function value: 392.891182\n",
      "         Iterations: 108\n",
      "         Function evaluations: 214\n"
     ]
    },
    {
     "name": "stderr",
     "output_type": "stream",
     "text": [
      "\r",
      "64it [51:04, 55.66s/it]"
     ]
    },
    {
     "name": "stdout",
     "output_type": "stream",
     "text": [
      "Optimization terminated successfully.\n",
      "         Current function value: 440.191508\n",
      "         Iterations: 97\n",
      "         Function evaluations: 193\n"
     ]
    },
    {
     "name": "stderr",
     "output_type": "stream",
     "text": [
      "\r",
      "65it [51:56, 54.60s/it]"
     ]
    },
    {
     "name": "stdout",
     "output_type": "stream",
     "text": [
      "Optimization terminated successfully.\n",
      "         Current function value: 593.490820\n",
      "         Iterations: 79\n",
      "         Function evaluations: 159\n"
     ]
    },
    {
     "name": "stderr",
     "output_type": "stream",
     "text": [
      "\r",
      "66it [52:36, 50.27s/it]"
     ]
    },
    {
     "name": "stdout",
     "output_type": "stream",
     "text": [
      "Optimization terminated successfully.\n",
      "         Current function value: 541.285567\n",
      "         Iterations: 95\n",
      "         Function evaluations: 192\n"
     ]
    },
    {
     "name": "stderr",
     "output_type": "stream",
     "text": [
      "\r",
      "67it [53:26, 50.24s/it]"
     ]
    },
    {
     "name": "stdout",
     "output_type": "stream",
     "text": [
      "Optimization terminated successfully.\n",
      "         Current function value: 649.777383\n",
      "         Iterations: 100\n",
      "         Function evaluations: 197\n"
     ]
    },
    {
     "name": "stderr",
     "output_type": "stream",
     "text": [
      "\r",
      "68it [54:17, 50.32s/it]"
     ]
    },
    {
     "name": "stdout",
     "output_type": "stream",
     "text": [
      "Optimization terminated successfully.\n",
      "         Current function value: 144784.848946\n",
      "         Iterations: 111\n",
      "         Function evaluations: 278\n"
     ]
    },
    {
     "name": "stderr",
     "output_type": "stream",
     "text": [
      "70it [56:00, 49.00s/it]"
     ]
    },
    {
     "name": "stdout",
     "output_type": "stream",
     "text": [
      "Optimization terminated successfully.\n",
      "         Current function value: 13278.775955\n",
      "         Iterations: 76\n",
      "         Function evaluations: 153\n"
     ]
    },
    {
     "name": "stderr",
     "output_type": "stream",
     "text": [
      "\r",
      "71it [56:47, 48.54s/it]"
     ]
    },
    {
     "name": "stdout",
     "output_type": "stream",
     "text": [
      "Optimization terminated successfully.\n",
      "         Current function value: 855.927856\n",
      "         Iterations: 99\n",
      "         Function evaluations: 205\n",
      "Optimization terminated successfully.\n",
      "         Current function value: 723.455378\n",
      "         Iterations: 106\n",
      "         Function evaluations: 216\n"
     ]
    },
    {
     "name": "stderr",
     "output_type": "stream",
     "text": [
      "\r",
      "72it [57:43, 50.74s/it]"
     ]
    },
    {
     "name": "stdout",
     "output_type": "stream",
     "text": [
      "Optimization terminated successfully.\n",
      "         Current function value: 593.031219\n",
      "         Iterations: 98\n",
      "         Function evaluations: 200\n"
     ]
    },
    {
     "name": "stderr",
     "output_type": "stream",
     "text": [
      "74it [59:28, 50.99s/it]"
     ]
    },
    {
     "name": "stdout",
     "output_type": "stream",
     "text": [
      "Optimization terminated successfully.\n",
      "         Current function value: 726.844440\n",
      "         Iterations: 100\n",
      "         Function evaluations: 201\n"
     ]
    },
    {
     "name": "stderr",
     "output_type": "stream",
     "text": [
      "\r",
      "75it [59:57, 44.50s/it]"
     ]
    },
    {
     "name": "stdout",
     "output_type": "stream",
     "text": [
      "Optimization terminated successfully.\n",
      "         Current function value: 17124.136911\n",
      "         Iterations: 74\n",
      "         Function evaluations: 149\n"
     ]
    },
    {
     "name": "stderr",
     "output_type": "stream",
     "text": [
      "\r",
      "76it [1:00:32, 41.60s/it]"
     ]
    },
    {
     "name": "stdout",
     "output_type": "stream",
     "text": [
      "Optimization terminated successfully.\n",
      "         Current function value: 713.372886\n",
      "         Iterations: 83\n",
      "         Function evaluations: 164\n"
     ]
    },
    {
     "name": "stderr",
     "output_type": "stream",
     "text": [
      "\r",
      "77it [1:01:22, 44.33s/it]"
     ]
    },
    {
     "name": "stdout",
     "output_type": "stream",
     "text": [
      "Optimization terminated successfully.\n",
      "         Current function value: 710.537933\n",
      "         Iterations: 101\n",
      "         Function evaluations: 200\n"
     ]
    },
    {
     "name": "stderr",
     "output_type": "stream",
     "text": [
      "\r",
      "78it [1:02:21, 48.73s/it]"
     ]
    },
    {
     "name": "stdout",
     "output_type": "stream",
     "text": [
      "Optimization terminated successfully.\n",
      "         Current function value: 145592.532142\n",
      "         Iterations: 110\n",
      "         Function evaluations: 269\n"
     ]
    },
    {
     "name": "stderr",
     "output_type": "stream",
     "text": [
      "\r",
      "79it [1:03:06, 47.37s/it]"
     ]
    },
    {
     "name": "stdout",
     "output_type": "stream",
     "text": [
      "Optimization terminated successfully.\n",
      "         Current function value: 775.797060\n",
      "         Iterations: 95\n",
      "         Function evaluations: 191\n"
     ]
    },
    {
     "name": "stderr",
     "output_type": "stream",
     "text": [
      "\r",
      "80it [1:04:19, 55.18s/it]"
     ]
    },
    {
     "name": "stdout",
     "output_type": "stream",
     "text": [
      "Warning: Maximum number of function evaluations has been exceeded.\n",
      "No success in result\n"
     ]
    },
    {
     "name": "stderr",
     "output_type": "stream",
     "text": [
      "\r",
      "81it [1:05:55, 67.35s/it]"
     ]
    },
    {
     "name": "stdout",
     "output_type": "stream",
     "text": [
      "Warning: Maximum number of function evaluations has been exceeded.\n",
      "No success in result\n"
     ]
    },
    {
     "name": "stderr",
     "output_type": "stream",
     "text": [
      "\r",
      "82it [1:07:03, 67.64s/it]"
     ]
    },
    {
     "name": "stdout",
     "output_type": "stream",
     "text": [
      "Optimization terminated successfully.\n",
      "         Current function value: 793.876568\n",
      "         Iterations: 149\n",
      "         Function evaluations: 299\n"
     ]
    },
    {
     "name": "stderr",
     "output_type": "stream",
     "text": [
      "\r",
      "83it [1:07:45, 59.97s/it]"
     ]
    },
    {
     "name": "stdout",
     "output_type": "stream",
     "text": [
      "Optimization terminated successfully.\n",
      "         Current function value: 773.519733\n",
      "         Iterations: 106\n",
      "         Function evaluations: 209\n"
     ]
    },
    {
     "name": "stderr",
     "output_type": "stream",
     "text": [
      "\r",
      "84it [1:08:45, 60.08s/it]"
     ]
    },
    {
     "name": "stdout",
     "output_type": "stream",
     "text": [
      "Optimization terminated successfully.\n",
      "         Current function value: 876.191860\n",
      "         Iterations: 123\n",
      "         Function evaluations: 249\n"
     ]
    },
    {
     "name": "stderr",
     "output_type": "stream",
     "text": [
      "\r",
      "85it [1:09:25, 54.04s/it]"
     ]
    },
    {
     "name": "stdout",
     "output_type": "stream",
     "text": [
      "Optimization terminated successfully.\n",
      "         Current function value: 919.701140\n",
      "         Iterations: 88\n",
      "         Function evaluations: 183\n"
     ]
    },
    {
     "name": "stderr",
     "output_type": "stream",
     "text": [
      "\r",
      "86it [1:10:07, 50.20s/it]"
     ]
    },
    {
     "name": "stdout",
     "output_type": "stream",
     "text": [
      "Optimization terminated successfully.\n",
      "         Current function value: 843.156009\n",
      "         Iterations: 91\n",
      "         Function evaluations: 184\n"
     ]
    },
    {
     "name": "stderr",
     "output_type": "stream",
     "text": [
      "\r",
      "87it [1:10:54, 49.27s/it]"
     ]
    },
    {
     "name": "stdout",
     "output_type": "stream",
     "text": [
      "Optimization terminated successfully.\n",
      "         Current function value: 1059.564788\n",
      "         Iterations: 103\n",
      "         Function evaluations: 201\n"
     ]
    },
    {
     "name": "stderr",
     "output_type": "stream",
     "text": [
      "\r",
      "88it [1:11:46, 50.24s/it]"
     ]
    },
    {
     "name": "stdout",
     "output_type": "stream",
     "text": [
      "Optimization terminated successfully.\n",
      "         Current function value: 880.762456\n",
      "         Iterations: 108\n",
      "         Function evaluations: 220\n"
     ]
    },
    {
     "name": "stderr",
     "output_type": "stream",
     "text": [
      "\r",
      "89it [1:13:02, 57.90s/it]"
     ]
    },
    {
     "name": "stdout",
     "output_type": "stream",
     "text": [
      "Warning: Maximum number of function evaluations has been exceeded.\n",
      "No success in result\n"
     ]
    },
    {
     "name": "stderr",
     "output_type": "stream",
     "text": [
      "\r",
      "90it [1:13:38, 51.46s/it]"
     ]
    },
    {
     "name": "stdout",
     "output_type": "stream",
     "text": [
      "Optimization terminated successfully.\n",
      "         Current function value: 984.312970\n",
      "         Iterations: 84\n",
      "         Function evaluations: 169\n"
     ]
    },
    {
     "name": "stderr",
     "output_type": "stream",
     "text": [
      "\r",
      "91it [1:14:27, 50.62s/it]"
     ]
    },
    {
     "name": "stdout",
     "output_type": "stream",
     "text": [
      "Optimization terminated successfully.\n",
      "         Current function value: 992.332969\n",
      "         Iterations: 113\n",
      "         Function evaluations: 228\n"
     ]
    },
    {
     "name": "stderr",
     "output_type": "stream",
     "text": [
      "\r",
      "92it [1:15:12, 48.80s/it]"
     ]
    },
    {
     "name": "stdout",
     "output_type": "stream",
     "text": [
      "Optimization terminated successfully.\n",
      "         Current function value: 1091.086352\n",
      "         Iterations: 102\n",
      "         Function evaluations: 201\n"
     ]
    },
    {
     "name": "stderr",
     "output_type": "stream",
     "text": [
      "\r",
      "93it [1:15:58, 47.91s/it]"
     ]
    },
    {
     "name": "stdout",
     "output_type": "stream",
     "text": [
      "Optimization terminated successfully.\n",
      "         Current function value: 1091.103249\n",
      "         Iterations: 111\n",
      "         Function evaluations: 219\n"
     ]
    },
    {
     "name": "stderr",
     "output_type": "stream",
     "text": [
      "\r",
      "94it [1:16:52, 49.84s/it]"
     ]
    },
    {
     "name": "stdout",
     "output_type": "stream",
     "text": [
      "Optimization terminated successfully.\n",
      "         Current function value: 1415.987095\n",
      "         Iterations: 152\n",
      "         Function evaluations: 293\n"
     ]
    },
    {
     "name": "stderr",
     "output_type": "stream",
     "text": [
      "\r",
      "95it [1:17:30, 46.33s/it]"
     ]
    },
    {
     "name": "stdout",
     "output_type": "stream",
     "text": [
      "Optimization terminated successfully.\n",
      "         Current function value: 1640.702933\n",
      "         Iterations: 97\n",
      "         Function evaluations: 195\n"
     ]
    },
    {
     "name": "stderr",
     "output_type": "stream",
     "text": [
      "\r",
      "96it [1:18:14, 45.59s/it]"
     ]
    },
    {
     "name": "stdout",
     "output_type": "stream",
     "text": [
      "Optimization terminated successfully.\n",
      "         Current function value: 1547.478108\n",
      "         Iterations: 108\n",
      "         Function evaluations: 220\n"
     ]
    },
    {
     "name": "stderr",
     "output_type": "stream",
     "text": [
      "\r",
      "97it [1:19:09, 48.39s/it]"
     ]
    },
    {
     "name": "stdout",
     "output_type": "stream",
     "text": [
      "Optimization terminated successfully.\n",
      "         Current function value: 1417.722205\n",
      "         Iterations: 136\n",
      "         Function evaluations: 279\n"
     ]
    },
    {
     "name": "stderr",
     "output_type": "stream",
     "text": [
      "\r",
      "98it [1:19:54, 47.59s/it]"
     ]
    },
    {
     "name": "stdout",
     "output_type": "stream",
     "text": [
      "Optimization terminated successfully.\n",
      "         Current function value: 1408.189982\n",
      "         Iterations: 105\n",
      "         Function evaluations: 216\n"
     ]
    },
    {
     "name": "stderr",
     "output_type": "stream",
     "text": [
      "\r",
      "99it [1:20:52, 50.44s/it]"
     ]
    },
    {
     "name": "stdout",
     "output_type": "stream",
     "text": [
      "Optimization terminated successfully.\n",
      "         Current function value: 2131.816745\n",
      "         Iterations: 139\n",
      "         Function evaluations: 309\n"
     ]
    },
    {
     "name": "stderr",
     "output_type": "stream",
     "text": [
      "\r",
      "100it [1:21:52, 53.51s/it]"
     ]
    },
    {
     "name": "stdout",
     "output_type": "stream",
     "text": [
      "Optimization terminated successfully.\n",
      "         Current function value: 1752.387567\n",
      "         Iterations: 142\n",
      "         Function evaluations: 305\n"
     ]
    },
    {
     "name": "stderr",
     "output_type": "stream",
     "text": [
      "\r",
      "101it [1:22:36, 50.56s/it]"
     ]
    },
    {
     "name": "stdout",
     "output_type": "stream",
     "text": [
      "Optimization terminated successfully.\n",
      "         Current function value: 1734.781545\n",
      "         Iterations: 107\n",
      "         Function evaluations: 208\n",
      "Optimization terminated successfully.\n",
      "         Current function value: 150032.110407\n",
      "         Iterations: 107\n",
      "         Function evaluations: 269\n"
     ]
    },
    {
     "name": "stderr",
     "output_type": "stream",
     "text": [
      "102it [1:24:12, 49.53s/it]"
     ]
    },
    {
     "name": "stdout",
     "output_type": "stream",
     "text": [
      "Wall time: 1h 24min 12s\n"
     ]
    },
    {
     "name": "stderr",
     "output_type": "stream",
     "text": [
      "\n"
     ]
    }
   ],
   "source": [
    "%%time\n",
    "for i, row in tqdm(tabel_init_points.iterrows()):\n",
    "    tabel_result.append(step(row))   "
   ]
  },
  {
   "cell_type": "code",
   "execution_count": 5,
   "id": "2075f051",
   "metadata": {},
   "outputs": [],
   "source": [
    "result = copy.deepcopy(tabel_result)"
   ]
  },
  {
   "cell_type": "code",
   "execution_count": 6,
   "id": "8b464707",
   "metadata": {},
   "outputs": [],
   "source": [
    "table = list()\n",
    "for row in result:\n",
    "    if row is None:\n",
    "        continue\n",
    "    table.append(row)"
   ]
  },
  {
   "cell_type": "code",
   "execution_count": 7,
   "id": "65f04f1b",
   "metadata": {},
   "outputs": [],
   "source": [
    "table = pd.DataFrame(table)"
   ]
  },
  {
   "cell_type": "code",
   "execution_count": 8,
   "id": "de67e0f8",
   "metadata": {},
   "outputs": [],
   "source": [
    "#table.to_csv(\"data/table_result_lenght.csv\", index=False)"
   ]
  },
  {
   "cell_type": "markdown",
   "id": "9d29f03d",
   "metadata": {},
   "source": [
    "## Обработка"
   ]
  },
  {
   "cell_type": "code",
   "execution_count": 12,
   "id": "816bdf97",
   "metadata": {},
   "outputs": [
    {
     "data": {
      "text/html": [
       "<div>\n",
       "<style scoped>\n",
       "    .dataframe tbody tr th:only-of-type {\n",
       "        vertical-align: middle;\n",
       "    }\n",
       "\n",
       "    .dataframe tbody tr th {\n",
       "        vertical-align: top;\n",
       "    }\n",
       "\n",
       "    .dataframe thead th {\n",
       "        text-align: right;\n",
       "    }\n",
       "</style>\n",
       "<table border=\"1\" class=\"dataframe\">\n",
       "  <thead>\n",
       "    <tr style=\"text-align: right;\">\n",
       "      <th></th>\n",
       "      <th>name</th>\n",
       "      <th>succes</th>\n",
       "      <th>wq</th>\n",
       "      <th>ro</th>\n",
       "      <th>mass</th>\n",
       "      <th>reason</th>\n",
       "    </tr>\n",
       "  </thead>\n",
       "  <tbody>\n",
       "    <tr>\n",
       "      <th>0</th>\n",
       "      <td>ДРП</td>\n",
       "      <td>True</td>\n",
       "      <td>3.869251</td>\n",
       "      <td>1011.404983</td>\n",
       "      <td>2650.941081</td>\n",
       "      <td>x_p</td>\n",
       "    </tr>\n",
       "    <tr>\n",
       "      <th>1</th>\n",
       "      <td>КЗДП</td>\n",
       "      <td>True</td>\n",
       "      <td>3.869251</td>\n",
       "      <td>1011.404979</td>\n",
       "      <td>2650.945574</td>\n",
       "      <td>x_p</td>\n",
       "    </tr>\n",
       "    <tr>\n",
       "      <th>2</th>\n",
       "      <td>ВУ фл</td>\n",
       "      <td>True</td>\n",
       "      <td>1.941803</td>\n",
       "      <td>372.088906</td>\n",
       "      <td>1889.718752</td>\n",
       "      <td>x_p</td>\n",
       "    </tr>\n",
       "    <tr>\n",
       "      <th>3</th>\n",
       "      <td>СФ 033</td>\n",
       "      <td>True</td>\n",
       "      <td>2.105988</td>\n",
       "      <td>351.792992</td>\n",
       "      <td>1801.638582</td>\n",
       "      <td>x_p</td>\n",
       "    </tr>\n",
       "    <tr>\n",
       "      <th>4</th>\n",
       "      <td>ВТ</td>\n",
       "      <td>True</td>\n",
       "      <td>2.009104</td>\n",
       "      <td>375.303381</td>\n",
       "      <td>1859.456452</td>\n",
       "      <td>x_p</td>\n",
       "    </tr>\n",
       "  </tbody>\n",
       "</table>\n",
       "</div>"
      ],
      "text/plain": [
       "     name  succes        wq           ro         mass reason\n",
       "0     ДРП    True  3.869251  1011.404983  2650.941081    x_p\n",
       "1    КЗДП    True  3.869251  1011.404979  2650.945574    x_p\n",
       "2   ВУ фл    True  1.941803   372.088906  1889.718752    x_p\n",
       "3  СФ 033    True  2.105988   351.792992  1801.638582    x_p\n",
       "4      ВТ    True  2.009104   375.303381  1859.456452    x_p"
      ]
     },
     "execution_count": 12,
     "metadata": {},
     "output_type": "execute_result"
    }
   ],
   "source": [
    "table.head()"
   ]
  },
  {
   "cell_type": "code",
   "execution_count": 31,
   "id": "7631164a",
   "metadata": {},
   "outputs": [
    {
     "data": {
      "text/html": [
       "<div>\n",
       "<style scoped>\n",
       "    .dataframe tbody tr th:only-of-type {\n",
       "        vertical-align: middle;\n",
       "    }\n",
       "\n",
       "    .dataframe tbody tr th {\n",
       "        vertical-align: top;\n",
       "    }\n",
       "\n",
       "    .dataframe thead th {\n",
       "        text-align: right;\n",
       "    }\n",
       "</style>\n",
       "<table border=\"1\" class=\"dataframe\">\n",
       "  <thead>\n",
       "    <tr style=\"text-align: right;\">\n",
       "      <th></th>\n",
       "      <th>name</th>\n",
       "      <th>succes</th>\n",
       "      <th>wq</th>\n",
       "      <th>ro</th>\n",
       "      <th>mass</th>\n",
       "      <th>reason</th>\n",
       "    </tr>\n",
       "  </thead>\n",
       "  <tbody>\n",
       "    <tr>\n",
       "      <th>101</th>\n",
       "      <td>УГ-2</td>\n",
       "      <td>True</td>\n",
       "      <td>0.866869</td>\n",
       "      <td>89.828520</td>\n",
       "      <td>300.690783</td>\n",
       "      <td>x_p</td>\n",
       "    </tr>\n",
       "    <tr>\n",
       "      <th>41</th>\n",
       "      <td>14/1 тр В/А</td>\n",
       "      <td>True</td>\n",
       "      <td>1.425524</td>\n",
       "      <td>802.135467</td>\n",
       "      <td>347.555869</td>\n",
       "      <td>x_p</td>\n",
       "    </tr>\n",
       "    <tr>\n",
       "      <th>46</th>\n",
       "      <td>15/1 тр В/А</td>\n",
       "      <td>True</td>\n",
       "      <td>1.517220</td>\n",
       "      <td>844.921773</td>\n",
       "      <td>358.608036</td>\n",
       "      <td>x_p</td>\n",
       "    </tr>\n",
       "    <tr>\n",
       "      <th>43</th>\n",
       "      <td>12/1 тр МН</td>\n",
       "      <td>True</td>\n",
       "      <td>1.539647</td>\n",
       "      <td>854.173998</td>\n",
       "      <td>378.514633</td>\n",
       "      <td>x_p</td>\n",
       "    </tr>\n",
       "    <tr>\n",
       "      <th>36</th>\n",
       "      <td>12/7 В/А</td>\n",
       "      <td>True</td>\n",
       "      <td>1.477258</td>\n",
       "      <td>864.207748</td>\n",
       "      <td>378.976982</td>\n",
       "      <td>x_p</td>\n",
       "    </tr>\n",
       "    <tr>\n",
       "      <th>45</th>\n",
       "      <td>ДГ-4 13/1</td>\n",
       "      <td>True</td>\n",
       "      <td>1.500202</td>\n",
       "      <td>837.135182</td>\n",
       "      <td>380.383730</td>\n",
       "      <td>x_p</td>\n",
       "    </tr>\n",
       "    <tr>\n",
       "      <th>38</th>\n",
       "      <td>12/7</td>\n",
       "      <td>True</td>\n",
       "      <td>1.645166</td>\n",
       "      <td>911.719247</td>\n",
       "      <td>382.280032</td>\n",
       "      <td>x_p</td>\n",
       "    </tr>\n",
       "    <tr>\n",
       "      <th>40</th>\n",
       "      <td>14/7 В/А</td>\n",
       "      <td>True</td>\n",
       "      <td>1.627366</td>\n",
       "      <td>945.833541</td>\n",
       "      <td>383.870878</td>\n",
       "      <td>x_p</td>\n",
       "    </tr>\n",
       "    <tr>\n",
       "      <th>63</th>\n",
       "      <td>МАП-1 23/1</td>\n",
       "      <td>True</td>\n",
       "      <td>1.620367</td>\n",
       "      <td>886.219706</td>\n",
       "      <td>392.891182</td>\n",
       "      <td>x_p</td>\n",
       "    </tr>\n",
       "    <tr>\n",
       "      <th>42</th>\n",
       "      <td>12/1 Тр</td>\n",
       "      <td>True</td>\n",
       "      <td>2.025696</td>\n",
       "      <td>600.943886</td>\n",
       "      <td>397.829038</td>\n",
       "      <td>x_p</td>\n",
       "    </tr>\n",
       "    <tr>\n",
       "      <th>33</th>\n",
       "      <td>11/7</td>\n",
       "      <td>True</td>\n",
       "      <td>1.439880</td>\n",
       "      <td>858.715654</td>\n",
       "      <td>401.002433</td>\n",
       "      <td>x_p</td>\n",
       "    </tr>\n",
       "    <tr>\n",
       "      <th>51</th>\n",
       "      <td>16/1 тр В/А</td>\n",
       "      <td>True</td>\n",
       "      <td>1.687947</td>\n",
       "      <td>928.600848</td>\n",
       "      <td>402.726317</td>\n",
       "      <td>x_p</td>\n",
       "    </tr>\n",
       "    <tr>\n",
       "      <th>68</th>\n",
       "      <td>УГФ-1</td>\n",
       "      <td>True</td>\n",
       "      <td>0.740439</td>\n",
       "      <td>42.829528</td>\n",
       "      <td>403.084575</td>\n",
       "      <td>x_p</td>\n",
       "    </tr>\n",
       "    <tr>\n",
       "      <th>37</th>\n",
       "      <td>9/7 МН</td>\n",
       "      <td>True</td>\n",
       "      <td>1.618733</td>\n",
       "      <td>905.255212</td>\n",
       "      <td>410.917014</td>\n",
       "      <td>x_p</td>\n",
       "    </tr>\n",
       "    <tr>\n",
       "      <th>59</th>\n",
       "      <td>АПЦ-235 П 16/1</td>\n",
       "      <td>True</td>\n",
       "      <td>1.760266</td>\n",
       "      <td>943.551505</td>\n",
       "      <td>422.857704</td>\n",
       "      <td>x_p</td>\n",
       "    </tr>\n",
       "    <tr>\n",
       "      <th>49</th>\n",
       "      <td>14/7</td>\n",
       "      <td>True</td>\n",
       "      <td>1.892885</td>\n",
       "      <td>1005.168271</td>\n",
       "      <td>425.970368</td>\n",
       "      <td>x_p</td>\n",
       "    </tr>\n",
       "    <tr>\n",
       "      <th>35</th>\n",
       "      <td>8/1 тр</td>\n",
       "      <td>True</td>\n",
       "      <td>1.262583</td>\n",
       "      <td>785.184279</td>\n",
       "      <td>427.723523</td>\n",
       "      <td>x_p</td>\n",
       "    </tr>\n",
       "    <tr>\n",
       "      <th>56</th>\n",
       "      <td>18/1 тр</td>\n",
       "      <td>True</td>\n",
       "      <td>1.763251</td>\n",
       "      <td>969.429801</td>\n",
       "      <td>429.618884</td>\n",
       "      <td>x_p</td>\n",
       "    </tr>\n",
       "    <tr>\n",
       "      <th>52</th>\n",
       "      <td>ДГ-4 14/1</td>\n",
       "      <td>True</td>\n",
       "      <td>1.764512</td>\n",
       "      <td>890.846063</td>\n",
       "      <td>432.894119</td>\n",
       "      <td>x_p</td>\n",
       "    </tr>\n",
       "    <tr>\n",
       "      <th>31</th>\n",
       "      <td>9/7</td>\n",
       "      <td>True</td>\n",
       "      <td>1.346039</td>\n",
       "      <td>800.065120</td>\n",
       "      <td>437.836208</td>\n",
       "      <td>x_p</td>\n",
       "    </tr>\n",
       "    <tr>\n",
       "      <th>64</th>\n",
       "      <td>БНГ-1355 25/1</td>\n",
       "      <td>True</td>\n",
       "      <td>2.074301</td>\n",
       "      <td>902.883952</td>\n",
       "      <td>440.191573</td>\n",
       "      <td>x_p</td>\n",
       "    </tr>\n",
       "    <tr>\n",
       "      <th>47</th>\n",
       "      <td>15/7</td>\n",
       "      <td>True</td>\n",
       "      <td>2.418783</td>\n",
       "      <td>754.609518</td>\n",
       "      <td>447.226117</td>\n",
       "      <td>x_p</td>\n",
       "    </tr>\n",
       "    <tr>\n",
       "      <th>77</th>\n",
       "      <td>12/1 УГ</td>\n",
       "      <td>True</td>\n",
       "      <td>1.029136</td>\n",
       "      <td>48.197557</td>\n",
       "      <td>457.545432</td>\n",
       "      <td>x_p</td>\n",
       "    </tr>\n",
       "    <tr>\n",
       "      <th>53</th>\n",
       "      <td>ДГ-3 13/1</td>\n",
       "      <td>True</td>\n",
       "      <td>1.860507</td>\n",
       "      <td>910.141278</td>\n",
       "      <td>476.349729</td>\n",
       "      <td>x_p</td>\n",
       "    </tr>\n",
       "    <tr>\n",
       "      <th>48</th>\n",
       "      <td>9/7 БП</td>\n",
       "      <td>True</td>\n",
       "      <td>2.919737</td>\n",
       "      <td>674.316280</td>\n",
       "      <td>503.679360</td>\n",
       "      <td>x_p</td>\n",
       "    </tr>\n",
       "    <tr>\n",
       "      <th>54</th>\n",
       "      <td>11/1 БП</td>\n",
       "      <td>True</td>\n",
       "      <td>2.508455</td>\n",
       "      <td>778.344373</td>\n",
       "      <td>503.910762</td>\n",
       "      <td>x_p</td>\n",
       "    </tr>\n",
       "    <tr>\n",
       "      <th>57</th>\n",
       "      <td>ДГ-4 15/1</td>\n",
       "      <td>True</td>\n",
       "      <td>2.643882</td>\n",
       "      <td>646.965694</td>\n",
       "      <td>508.011299</td>\n",
       "      <td>x_p</td>\n",
       "    </tr>\n",
       "    <tr>\n",
       "      <th>62</th>\n",
       "      <td>100/70</td>\n",
       "      <td>True</td>\n",
       "      <td>2.662158</td>\n",
       "      <td>712.811462</td>\n",
       "      <td>508.765168</td>\n",
       "      <td>x_p</td>\n",
       "    </tr>\n",
       "    <tr>\n",
       "      <th>55</th>\n",
       "      <td>12/1 тр БП</td>\n",
       "      <td>True</td>\n",
       "      <td>1.962821</td>\n",
       "      <td>966.594225</td>\n",
       "      <td>524.280257</td>\n",
       "      <td>x_p</td>\n",
       "    </tr>\n",
       "    <tr>\n",
       "      <th>58</th>\n",
       "      <td>16/1 тр</td>\n",
       "      <td>True</td>\n",
       "      <td>2.891343</td>\n",
       "      <td>583.370421</td>\n",
       "      <td>532.457986</td>\n",
       "      <td>x_p</td>\n",
       "    </tr>\n",
       "    <tr>\n",
       "      <th>27</th>\n",
       "      <td>7/7</td>\n",
       "      <td>True</td>\n",
       "      <td>1.239457</td>\n",
       "      <td>735.259111</td>\n",
       "      <td>536.590435</td>\n",
       "      <td>x_p</td>\n",
       "    </tr>\n",
       "    <tr>\n",
       "      <th>66</th>\n",
       "      <td>22/1 тр</td>\n",
       "      <td>True</td>\n",
       "      <td>2.560988</td>\n",
       "      <td>914.918722</td>\n",
       "      <td>541.285647</td>\n",
       "      <td>x_p</td>\n",
       "    </tr>\n",
       "    <tr>\n",
       "      <th>61</th>\n",
       "      <td>17/7</td>\n",
       "      <td>True</td>\n",
       "      <td>3.093921</td>\n",
       "      <td>809.331302</td>\n",
       "      <td>551.803518</td>\n",
       "      <td>x_p</td>\n",
       "    </tr>\n",
       "    <tr>\n",
       "      <th>30</th>\n",
       "      <td>6/7 БП гр</td>\n",
       "      <td>True</td>\n",
       "      <td>1.382347</td>\n",
       "      <td>766.099706</td>\n",
       "      <td>571.796330</td>\n",
       "      <td>x_p</td>\n",
       "    </tr>\n",
       "    <tr>\n",
       "      <th>72</th>\n",
       "      <td>180/57 Ш3 БП</td>\n",
       "      <td>True</td>\n",
       "      <td>2.529182</td>\n",
       "      <td>1065.896880</td>\n",
       "      <td>593.031315</td>\n",
       "      <td>x_p</td>\n",
       "    </tr>\n",
       "    <tr>\n",
       "      <th>65</th>\n",
       "      <td>НДТ-3 16/1</td>\n",
       "      <td>True</td>\n",
       "      <td>2.812702</td>\n",
       "      <td>811.363130</td>\n",
       "      <td>593.490892</td>\n",
       "      <td>x_p</td>\n",
       "    </tr>\n",
       "    <tr>\n",
       "      <th>26</th>\n",
       "      <td>6/7 гр</td>\n",
       "      <td>True</td>\n",
       "      <td>1.338042</td>\n",
       "      <td>676.426971</td>\n",
       "      <td>599.825431</td>\n",
       "      <td>x_p</td>\n",
       "    </tr>\n",
       "    <tr>\n",
       "      <th>67</th>\n",
       "      <td>ДГ-2 15/1</td>\n",
       "      <td>True</td>\n",
       "      <td>2.999261</td>\n",
       "      <td>825.934169</td>\n",
       "      <td>649.777447</td>\n",
       "      <td>x_p</td>\n",
       "    </tr>\n",
       "    <tr>\n",
       "      <th>76</th>\n",
       "      <td>ДГ-3 18/1</td>\n",
       "      <td>True</td>\n",
       "      <td>3.154401</td>\n",
       "      <td>862.291514</td>\n",
       "      <td>710.537967</td>\n",
       "      <td>x_p</td>\n",
       "    </tr>\n",
       "    <tr>\n",
       "      <th>75</th>\n",
       "      <td>НДТ-3 18/1</td>\n",
       "      <td>True</td>\n",
       "      <td>3.554489</td>\n",
       "      <td>733.928788</td>\n",
       "      <td>713.372953</td>\n",
       "      <td>x_p</td>\n",
       "    </tr>\n",
       "    <tr>\n",
       "      <th>71</th>\n",
       "      <td>ДГ-3 17/1</td>\n",
       "      <td>True</td>\n",
       "      <td>2.972178</td>\n",
       "      <td>862.026129</td>\n",
       "      <td>723.455448</td>\n",
       "      <td>x_p</td>\n",
       "    </tr>\n",
       "    <tr>\n",
       "      <th>73</th>\n",
       "      <td>НДТ-2 16/1</td>\n",
       "      <td>True</td>\n",
       "      <td>3.393666</td>\n",
       "      <td>792.255018</td>\n",
       "      <td>726.844510</td>\n",
       "      <td>x_p</td>\n",
       "    </tr>\n",
       "    <tr>\n",
       "      <th>82</th>\n",
       "      <td>НДТ-3 19/1</td>\n",
       "      <td>True</td>\n",
       "      <td>3.937159</td>\n",
       "      <td>696.035536</td>\n",
       "      <td>773.519763</td>\n",
       "      <td>x_p</td>\n",
       "    </tr>\n",
       "    <tr>\n",
       "      <th>78</th>\n",
       "      <td>ДГ-2 17/1</td>\n",
       "      <td>True</td>\n",
       "      <td>3.704988</td>\n",
       "      <td>772.703197</td>\n",
       "      <td>775.797121</td>\n",
       "      <td>x_p</td>\n",
       "    </tr>\n",
       "    <tr>\n",
       "      <th>81</th>\n",
       "      <td>18/1 тр БП</td>\n",
       "      <td>True</td>\n",
       "      <td>3.841432</td>\n",
       "      <td>791.662403</td>\n",
       "      <td>793.876546</td>\n",
       "      <td>x_p</td>\n",
       "    </tr>\n",
       "    <tr>\n",
       "      <th>21</th>\n",
       "      <td>6/7 фл</td>\n",
       "      <td>True</td>\n",
       "      <td>2.155679</td>\n",
       "      <td>375.741545</td>\n",
       "      <td>805.442244</td>\n",
       "      <td>x_p</td>\n",
       "    </tr>\n",
       "    <tr>\n",
       "      <th>28</th>\n",
       "      <td>8/7</td>\n",
       "      <td>True</td>\n",
       "      <td>2.256809</td>\n",
       "      <td>372.257941</td>\n",
       "      <td>824.062657</td>\n",
       "      <td>x_p</td>\n",
       "    </tr>\n",
       "    <tr>\n",
       "      <th>85</th>\n",
       "      <td>180/57</td>\n",
       "      <td>True</td>\n",
       "      <td>4.113721</td>\n",
       "      <td>809.455933</td>\n",
       "      <td>843.156049</td>\n",
       "      <td>x_p</td>\n",
       "    </tr>\n",
       "    <tr>\n",
       "      <th>70</th>\n",
       "      <td>14/7 БП</td>\n",
       "      <td>True</td>\n",
       "      <td>4.530823</td>\n",
       "      <td>758.633450</td>\n",
       "      <td>855.927954</td>\n",
       "      <td>x_p</td>\n",
       "    </tr>\n",
       "    <tr>\n",
       "      <th>83</th>\n",
       "      <td>ДГ-3 20/1</td>\n",
       "      <td>True</td>\n",
       "      <td>3.612568</td>\n",
       "      <td>866.726747</td>\n",
       "      <td>876.191916</td>\n",
       "      <td>x_p</td>\n",
       "    </tr>\n",
       "  </tbody>\n",
       "</table>\n",
       "</div>"
      ],
      "text/plain": [
       "               name  succes        wq           ro        mass reason\n",
       "101            УГ-2    True  0.866869    89.828520  300.690783    x_p\n",
       "41      14/1 тр В/А    True  1.425524   802.135467  347.555869    x_p\n",
       "46      15/1 тр В/А    True  1.517220   844.921773  358.608036    x_p\n",
       "43       12/1 тр МН    True  1.539647   854.173998  378.514633    x_p\n",
       "36         12/7 В/А    True  1.477258   864.207748  378.976982    x_p\n",
       "45        ДГ-4 13/1    True  1.500202   837.135182  380.383730    x_p\n",
       "38             12/7    True  1.645166   911.719247  382.280032    x_p\n",
       "40         14/7 В/А    True  1.627366   945.833541  383.870878    x_p\n",
       "63       МАП-1 23/1    True  1.620367   886.219706  392.891182    x_p\n",
       "42          12/1 Тр    True  2.025696   600.943886  397.829038    x_p\n",
       "33             11/7    True  1.439880   858.715654  401.002433    x_p\n",
       "51      16/1 тр В/А    True  1.687947   928.600848  402.726317    x_p\n",
       "68            УГФ-1    True  0.740439    42.829528  403.084575    x_p\n",
       "37           9/7 МН    True  1.618733   905.255212  410.917014    x_p\n",
       "59   АПЦ-235 П 16/1    True  1.760266   943.551505  422.857704    x_p\n",
       "49             14/7    True  1.892885  1005.168271  425.970368    x_p\n",
       "35           8/1 тр    True  1.262583   785.184279  427.723523    x_p\n",
       "56          18/1 тр    True  1.763251   969.429801  429.618884    x_p\n",
       "52        ДГ-4 14/1    True  1.764512   890.846063  432.894119    x_p\n",
       "31              9/7    True  1.346039   800.065120  437.836208    x_p\n",
       "64    БНГ-1355 25/1    True  2.074301   902.883952  440.191573    x_p\n",
       "47             15/7    True  2.418783   754.609518  447.226117    x_p\n",
       "77          12/1 УГ    True  1.029136    48.197557  457.545432    x_p\n",
       "53        ДГ-3 13/1    True  1.860507   910.141278  476.349729    x_p\n",
       "48           9/7 БП    True  2.919737   674.316280  503.679360    x_p\n",
       "54          11/1 БП    True  2.508455   778.344373  503.910762    x_p\n",
       "57        ДГ-4 15/1    True  2.643882   646.965694  508.011299    x_p\n",
       "62           100/70    True  2.662158   712.811462  508.765168    x_p\n",
       "55       12/1 тр БП    True  1.962821   966.594225  524.280257    x_p\n",
       "58          16/1 тр    True  2.891343   583.370421  532.457986    x_p\n",
       "27              7/7    True  1.239457   735.259111  536.590435    x_p\n",
       "66          22/1 тр    True  2.560988   914.918722  541.285647    x_p\n",
       "61             17/7    True  3.093921   809.331302  551.803518    x_p\n",
       "30        6/7 БП гр    True  1.382347   766.099706  571.796330    x_p\n",
       "72     180/57 Ш3 БП    True  2.529182  1065.896880  593.031315    x_p\n",
       "65       НДТ-3 16/1    True  2.812702   811.363130  593.490892    x_p\n",
       "26           6/7 гр    True  1.338042   676.426971  599.825431    x_p\n",
       "67        ДГ-2 15/1    True  2.999261   825.934169  649.777447    x_p\n",
       "76        ДГ-3 18/1    True  3.154401   862.291514  710.537967    x_p\n",
       "75       НДТ-3 18/1    True  3.554489   733.928788  713.372953    x_p\n",
       "71        ДГ-3 17/1    True  2.972178   862.026129  723.455448    x_p\n",
       "73       НДТ-2 16/1    True  3.393666   792.255018  726.844510    x_p\n",
       "82       НДТ-3 19/1    True  3.937159   696.035536  773.519763    x_p\n",
       "78        ДГ-2 17/1    True  3.704988   772.703197  775.797121    x_p\n",
       "81       18/1 тр БП    True  3.841432   791.662403  793.876546    x_p\n",
       "21           6/7 фл    True  2.155679   375.741545  805.442244    x_p\n",
       "28              8/7    True  2.256809   372.257941  824.062657    x_p\n",
       "85           180/57    True  4.113721   809.455933  843.156049    x_p\n",
       "70          14/7 БП    True  4.530823   758.633450  855.927954    x_p\n",
       "83        ДГ-3 20/1    True  3.612568   866.726747  876.191916    x_p"
      ]
     },
     "execution_count": 31,
     "metadata": {},
     "output_type": "execute_result"
    }
   ],
   "source": [
    "table.sort_values(by=['mass']).head(50)"
   ]
  },
  {
   "cell_type": "code",
   "execution_count": 28,
   "id": "4b98d92f",
   "metadata": {},
   "outputs": [],
   "source": [
    "res = ozvb_lagrange(presolver.init_dict(\"14/1 тр В/А\", 1.425524, 802.135467))"
   ]
  },
  {
   "cell_type": "code",
   "execution_count": 30,
   "id": "addd21cb",
   "metadata": {},
   "outputs": [
    {
     "data": {
      "text/plain": [
       "5.543"
      ]
     },
     "execution_count": 30,
     "metadata": {},
     "output_type": "execute_result"
    }
   ],
   "source": [
    "res['layers'][-1]['x'][-1]"
   ]
  },
  {
   "cell_type": "code",
   "execution_count": null,
   "id": "6a9bb705",
   "metadata": {},
   "outputs": [],
   "source": []
  }
 ],
 "metadata": {
  "kernelspec": {
   "display_name": "Python 3",
   "language": "python",
   "name": "python3"
  },
  "language_info": {
   "codemirror_mode": {
    "name": "ipython",
    "version": 3
   },
   "file_extension": ".py",
   "mimetype": "text/x-python",
   "name": "python",
   "nbconvert_exporter": "python",
   "pygments_lexer": "ipython3",
   "version": "3.8.8"
  }
 },
 "nbformat": 4,
 "nbformat_minor": 5
}
