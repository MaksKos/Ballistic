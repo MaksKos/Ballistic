{
 "cells": [
  {
   "cell_type": "code",
   "execution_count": 3,
   "id": "c53e2078",
   "metadata": {},
   "outputs": [],
   "source": [
    "import copy\n",
    "import numpy as np\n",
    "import matplotlib.pyplot as plt\n",
    "from modules import solver\n",
    "from pyballistics import ozvb_lagrange, get_db_powder, get_powder_names\n",
    "from tqdm.notebook import tqdm, trange"
   ]
  },
  {
   "cell_type": "code",
   "execution_count": 2,
   "id": "98936642",
   "metadata": {},
   "outputs": [
    {
     "name": "stdout",
     "output_type": "stream",
     "text": [
      " version 1.0\n",
      "\n",
      "This module solves inverse problem of internal ballistics\n",
      "\n",
      "\n"
     ]
    }
   ],
   "source": [
    "print(solver.__doc__)"
   ]
  },
  {
   "cell_type": "markdown",
   "id": "0f1c1561",
   "metadata": {},
   "source": [
    "## Исходные данные\n",
    "задаются начальные данные по орудию и формируется словарь"
   ]
  },
  {
   "cell_type": "markdown",
   "id": "0c6b1d31",
   "metadata": {},
   "source": [
    "__Основные парметры__"
   ]
  },
  {
   "cell_type": "code",
   "execution_count": 3,
   "id": "14e28c73",
   "metadata": {},
   "outputs": [],
   "source": [
    "d = 125*1e-3          # калибр м\n",
    "q = 4.85           # вес снаряда кг\n",
    "velocity_pm = 1700         # дульная скорость снаряда\n",
    "n_s = 1           # нарезное орудие\n",
    "max_pressure = 1000*1e6    # максимальное давление Па\n",
    "tube_lenght = 5543*10e-3      # длина трубы  "
   ]
  },
  {
   "cell_type": "markdown",
   "id": "d2480db8",
   "metadata": {},
   "source": [
    "__Дополнительные параметры__"
   ]
  },
  {
   "cell_type": "code",
   "execution_count": 4,
   "id": "6dff6d0c",
   "metadata": {},
   "outputs": [],
   "source": [
    "# !! fix it\n",
    "p_fors = 10*1e6      #давление форсирования (гладкоствольные 7-15 МПа)\n",
    "\n",
    "#нормализация (в данный момент не используется)\n",
    "norm_ro = 1000 \n",
    "norm_w = 1"
   ]
  },
  {
   "cell_type": "markdown",
   "id": "cf12454b",
   "metadata": {},
   "source": [
    "__Словарь__"
   ]
  },
  {
   "cell_type": "code",
   "execution_count": 5,
   "id": "ff7a6a8f",
   "metadata": {},
   "outputs": [],
   "source": [
    "initial_dict_static =  {\n",
    "   'powders': \n",
    "    [\n",
    "       {'omega': None, 'dbname': None}\n",
    "    ],\n",
    "  'init_conditions': \n",
    "    {\n",
    "       'q': q,\n",
    "       'd': d,\n",
    "       'W_0': None ,\n",
    "       'phi_1': 1.0,\n",
    "       'p_0': p_fors, \n",
    "       'n_S': 1\n",
    "    },\n",
    "  'igniter': \n",
    "    {\n",
    "       'p_ign_0': 5000000.0 #check it \n",
    "    },\n",
    "  \n",
    "  'meta_lagrange': \n",
    "    {\n",
    "       'CFL': 0.9, \n",
    "       'n_cells': 300\n",
    "    },\n",
    "  'stop_conditions': \n",
    "    {\n",
    "       'x_p': tube_lenght,\n",
    "       'steps_max': 8000,   \n",
    "       't_max': 0.05,\n",
    "       'p_max': max_pressure,\n",
    "        'v_p': velocity_pm,\n",
    "    }\n",
    " }"
   ]
  },
  {
   "cell_type": "markdown",
   "id": "ec2ebed8",
   "metadata": {},
   "source": [
    "## Решение обратной задачи"
   ]
  },
  {
   "cell_type": "markdown",
   "id": "3e8cd07c",
   "metadata": {},
   "source": [
    "__Инициализация массивов под решение__"
   ]
  },
  {
   "cell_type": "code",
   "execution_count": 6,
   "id": "07d547fc",
   "metadata": {},
   "outputs": [],
   "source": [
    "powders_names = get_powder_names()\n",
    "n = len(powders_names)\n",
    "wq_0 = np.random.rand(n)*0.8 + 0.1\n",
    "ro_0 = np.random.rand(n)*800 + 100"
   ]
  },
  {
   "cell_type": "code",
   "execution_count": 7,
   "id": "41a07b3b",
   "metadata": {},
   "outputs": [],
   "source": [
    "optim_parametrs = list()"
   ]
  },
  {
   "cell_type": "markdown",
   "id": "23669ee2",
   "metadata": {},
   "source": [
    "__Цикл решения__:\n",
    "\n",
    "    1. Внешний цикл по порохам\n",
    "    2. решение церез штафную функцию"
   ]
  },
  {
   "cell_type": "code",
   "execution_count": 8,
   "id": "7a4ff66b",
   "metadata": {},
   "outputs": [
    {
     "data": {
      "application/vnd.jupyter.widget-view+json": {
       "model_id": "db6ccb079f9648acab0ee658a4ccd98d",
       "version_major": 2,
       "version_minor": 0
      },
      "text/plain": [
       "  0%|          | 0/2 [00:00<?, ?it/s]"
      ]
     },
     "metadata": {},
     "output_type": "display_data"
    },
    {
     "name": "stdout",
     "output_type": "stream",
     "text": [
      "error\n"
     ]
    },
    {
     "ename": "KeyError",
     "evalue": "'layers'",
     "output_type": "error",
     "traceback": [
      "\u001b[1;31m---------------------------------------------------------------------------\u001b[0m",
      "\u001b[1;31mKeyError\u001b[0m                                  Traceback (most recent call last)",
      "\u001b[1;32m<timed exec>\u001b[0m in \u001b[0;36m<module>\u001b[1;34m\u001b[0m\n",
      "\u001b[1;32mE:\\PROGRAMMING PROJECT\\Jupyter project\\BMSTU\\5th year\\Gun Projecting\\modules\\solver.py\u001b[0m in \u001b[0;36msolution\u001b[1;34m(initial_parametrs)\u001b[0m\n\u001b[0;32m     25\u001b[0m     \u001b[0minitial_parametrs\u001b[0m\u001b[1;33m[\u001b[0m\u001b[1;34m'init_conditions'\u001b[0m\u001b[1;33m]\u001b[0m\u001b[1;33m[\u001b[0m\u001b[1;34m'W_0'\u001b[0m\u001b[1;33m]\u001b[0m \u001b[1;33m=\u001b[0m \u001b[0minitial_parametrs\u001b[0m\u001b[1;33m[\u001b[0m\u001b[1;34m'powders'\u001b[0m\u001b[1;33m]\u001b[0m\u001b[1;33m[\u001b[0m\u001b[1;36m0\u001b[0m\u001b[1;33m]\u001b[0m\u001b[1;33m[\u001b[0m\u001b[1;34m'omega'\u001b[0m\u001b[1;33m]\u001b[0m\u001b[1;33m/\u001b[0m\u001b[0mresult\u001b[0m\u001b[1;33m.\u001b[0m\u001b[0mx\u001b[0m\u001b[1;33m[\u001b[0m\u001b[1;36m1\u001b[0m\u001b[1;33m]\u001b[0m\u001b[1;33m\u001b[0m\u001b[1;33m\u001b[0m\u001b[0m\n\u001b[0;32m     26\u001b[0m     \u001b[1;31m# may be should use Class for storing <mass>. And don't use ozvb_lagrange\u001b[0m\u001b[1;33m\u001b[0m\u001b[1;33m\u001b[0m\u001b[1;33m\u001b[0m\u001b[0m\n\u001b[1;32m---> 27\u001b[1;33m     \u001b[0mmass\u001b[0m \u001b[1;33m=\u001b[0m \u001b[0mcannon_mass\u001b[0m\u001b[1;33m(\u001b[0m\u001b[0mozvb_lagrange\u001b[0m\u001b[1;33m(\u001b[0m\u001b[0minitial_parametrs\u001b[0m\u001b[1;33m)\u001b[0m\u001b[1;33m,\u001b[0m \u001b[0minitial_parametrs\u001b[0m\u001b[1;33m)\u001b[0m\u001b[1;33m\u001b[0m\u001b[1;33m\u001b[0m\u001b[0m\n\u001b[0m\u001b[0;32m     28\u001b[0m     return {\n\u001b[0;32m     29\u001b[0m         \u001b[1;34m'name'\u001b[0m\u001b[1;33m:\u001b[0m \u001b[0minitial_parametrs\u001b[0m\u001b[1;33m[\u001b[0m\u001b[1;34m'powders'\u001b[0m\u001b[1;33m]\u001b[0m\u001b[1;33m[\u001b[0m\u001b[1;36m0\u001b[0m\u001b[1;33m]\u001b[0m\u001b[1;33m[\u001b[0m\u001b[1;34m'name'\u001b[0m\u001b[1;33m]\u001b[0m\u001b[1;33m,\u001b[0m\u001b[1;33m\u001b[0m\u001b[1;33m\u001b[0m\u001b[0m\n",
      "\u001b[1;32mE:\\PROGRAMMING PROJECT\\Jupyter project\\BMSTU\\5th year\\Gun Projecting\\modules\\solver.py\u001b[0m in \u001b[0;36mcannon_mass\u001b[1;34m(result, parametrs)\u001b[0m\n\u001b[0;32m     81\u001b[0m     \u001b[0mro\u001b[0m \u001b[1;33m=\u001b[0m \u001b[1;36m7800\u001b[0m\u001b[1;33m\u001b[0m\u001b[1;33m\u001b[0m\u001b[0m\n\u001b[0;32m     82\u001b[0m     \u001b[0mprint\u001b[0m\u001b[1;33m(\u001b[0m\u001b[0mresult\u001b[0m\u001b[1;33m[\u001b[0m\u001b[1;34m'stop_reason'\u001b[0m\u001b[1;33m]\u001b[0m\u001b[1;33m)\u001b[0m\u001b[1;33m\u001b[0m\u001b[1;33m\u001b[0m\u001b[0m\n\u001b[1;32m---> 83\u001b[1;33m     \u001b[0mW_0\u001b[0m \u001b[1;33m=\u001b[0m \u001b[0mdiametr\u001b[0m\u001b[1;33m**\u001b[0m\u001b[1;36m2\u001b[0m\u001b[1;33m*\u001b[0m\u001b[0mnp\u001b[0m\u001b[1;33m.\u001b[0m\u001b[0mmath\u001b[0m\u001b[1;33m.\u001b[0m\u001b[0mpi\u001b[0m\u001b[1;33m/\u001b[0m\u001b[1;36m4\u001b[0m \u001b[1;33m*\u001b[0m \u001b[0mnp\u001b[0m\u001b[1;33m.\u001b[0m\u001b[0mabs\u001b[0m\u001b[1;33m(\u001b[0m\u001b[0mresult\u001b[0m\u001b[1;33m[\u001b[0m\u001b[1;34m'layers'\u001b[0m\u001b[1;33m]\u001b[0m\u001b[1;33m[\u001b[0m\u001b[1;36m0\u001b[0m\u001b[1;33m]\u001b[0m\u001b[1;33m[\u001b[0m\u001b[1;34m'x'\u001b[0m\u001b[1;33m]\u001b[0m\u001b[1;33m[\u001b[0m\u001b[1;34m'0'\u001b[0m\u001b[1;33m]\u001b[0m\u001b[1;33m)\u001b[0m\u001b[1;33m\u001b[0m\u001b[1;33m\u001b[0m\u001b[0m\n\u001b[0m\u001b[0;32m     84\u001b[0m     \u001b[0ml_2\u001b[0m \u001b[1;33m=\u001b[0m \u001b[1;36m0.55\u001b[0m\u001b[1;33m*\u001b[0m\u001b[0mdiametr\u001b[0m \u001b[1;32mif\u001b[0m \u001b[0mnp\u001b[0m\u001b[1;33m.\u001b[0m\u001b[0msqrt\u001b[0m\u001b[1;33m(\u001b[0m\u001b[0mhi\u001b[0m\u001b[1;33m)\u001b[0m \u001b[1;33m<=\u001b[0m \u001b[1;36m1.25\u001b[0m \u001b[1;32melse\u001b[0m \u001b[1;36m0.9\u001b[0m\u001b[1;33m*\u001b[0m\u001b[0mdiametr\u001b[0m\u001b[1;33m\u001b[0m\u001b[1;33m\u001b[0m\u001b[0m\n\u001b[0;32m     85\u001b[0m     \u001b[0ml_6\u001b[0m \u001b[1;33m=\u001b[0m \u001b[1;36m2.5\u001b[0m\u001b[1;33m*\u001b[0m\u001b[0mdiametr\u001b[0m\u001b[1;33m\u001b[0m\u001b[1;33m\u001b[0m\u001b[0m\n",
      "\u001b[1;31mKeyError\u001b[0m: 'layers'"
     ]
    }
   ],
   "source": [
    "%%time\n",
    "\n",
    "for i in trange(2):\n",
    "    initial_dict = copy.deepcopy(initial_dict_static)\n",
    "    initial_dict['powders'][0]['name'] = powders_names[i]\n",
    "    initial_dict['powders'][0]['omega'] = wq_0[i]*q\n",
    "    initial_dict['init_conditions']['W_0'] = wq_0[i]*q/ro_0[i]\n",
    "    optim_parametrs.append(solver.solution(initial_dict))\n"
   ]
  },
  {
   "cell_type": "code",
   "execution_count": 9,
   "id": "296a4605",
   "metadata": {},
   "outputs": [
    {
     "ename": "TypeError",
     "evalue": "unsupported operand type(s) for *: 'int' and 'NoneType'",
     "output_type": "error",
     "traceback": [
      "\u001b[1;31m---------------------------------------------------------------------------\u001b[0m",
      "\u001b[1;31mTypeError\u001b[0m                                 Traceback (most recent call last)",
      "\u001b[1;32m~\\AppData\\Local\\Temp/ipykernel_16572/3137364547.py\u001b[0m in \u001b[0;36m<module>\u001b[1;34m\u001b[0m\n\u001b[1;32m----> 1\u001b[1;33m \u001b[1;36m5\u001b[0m \u001b[1;33m*\u001b[0m \u001b[1;32mNone\u001b[0m\u001b[1;33m\u001b[0m\u001b[1;33m\u001b[0m\u001b[0m\n\u001b[0m",
      "\u001b[1;31mTypeError\u001b[0m: unsupported operand type(s) for *: 'int' and 'NoneType'"
     ]
    }
   ],
   "source": [
    "5 * None"
   ]
  },
  {
   "cell_type": "markdown",
   "id": "a96cfcac",
   "metadata": {},
   "source": [
    "__Выбор лучшего решения__"
   ]
  },
  {
   "cell_type": "code",
   "execution_count": null,
   "id": "6edb6fd4",
   "metadata": {},
   "outputs": [],
   "source": [
    "hi = 2\n",
    "d = 0.125"
   ]
  },
  {
   "cell_type": "code",
   "execution_count": null,
   "id": "9a537744",
   "metadata": {},
   "outputs": [],
   "source": [
    "l_2 = 0.55*d if np.sqrt(hi) <= 1.25 else 2*d"
   ]
  },
  {
   "cell_type": "code",
   "execution_count": null,
   "id": "5f7babc6",
   "metadata": {},
   "outputs": [],
   "source": [
    "del_radius = np.array([0, 12, 2, 15])\n",
    "d = 20"
   ]
  },
  {
   "cell_type": "code",
   "execution_count": null,
   "id": "9d1b8a2a",
   "metadata": {},
   "outputs": [],
   "source": [
    "for i in range(len(del_radius)):\n",
    "    del_radius[i] = max(del_radius[i], 0.5*d) "
   ]
  },
  {
   "cell_type": "code",
   "execution_count": null,
   "id": "b6ec65de",
   "metadata": {},
   "outputs": [],
   "source": [
    "del_radius"
   ]
  },
  {
   "cell_type": "code",
   "execution_count": null,
   "id": "c8206023",
   "metadata": {},
   "outputs": [],
   "source": [
    "a = [5, 8,1, 89]\n",
    "b = np.array([5, 8, 6])"
   ]
  },
  {
   "cell_type": "code",
   "execution_count": null,
   "id": "6bec3ba9",
   "metadata": {},
   "outputs": [],
   "source": [
    "a +b"
   ]
  },
  {
   "cell_type": "code",
   "execution_count": null,
   "id": "c8272c63",
   "metadata": {},
   "outputs": [],
   "source": [
    "x = np.array([4, 6, 8, 9, 10])"
   ]
  },
  {
   "cell_type": "code",
   "execution_count": null,
   "id": "0807c403",
   "metadata": {},
   "outputs": [],
   "source": [
    "x[1:] - x[:-1]"
   ]
  },
  {
   "cell_type": "code",
   "execution_count": 7,
   "id": "ab5aa373",
   "metadata": {},
   "outputs": [],
   "source": [
    "srt1 = 'p'\n",
    "str2 = 'a'\n",
    "arr = ['x', 'p', 'd']"
   ]
  },
  {
   "cell_type": "code",
   "execution_count": 9,
   "id": "c5baaa36",
   "metadata": {},
   "outputs": [
    {
     "data": {
      "text/plain": [
       "True"
      ]
     },
     "execution_count": 9,
     "metadata": {},
     "output_type": "execute_result"
    }
   ],
   "source": [
    "srt1 in arr "
   ]
  },
  {
   "cell_type": "code",
   "execution_count": 35,
   "id": "b371bba8",
   "metadata": {},
   "outputs": [],
   "source": [
    "a = np.array([\n",
    "    [3, 6, 7, 4, 8],\n",
    "    [5, 10, 3, 7, 9],\n",
    "    [17, 9, 1, 16, 7]\n",
    "])"
   ]
  },
  {
   "cell_type": "code",
   "execution_count": 36,
   "id": "8e4efd7a",
   "metadata": {},
   "outputs": [
    {
     "data": {
      "text/plain": [
       "10"
      ]
     },
     "execution_count": 36,
     "metadata": {},
     "output_type": "execute_result"
    }
   ],
   "source": [
    "index = np.argmax(a)\n",
    "index"
   ]
  },
  {
   "cell_type": "code",
   "execution_count": 37,
   "id": "cf271be3",
   "metadata": {},
   "outputs": [
    {
     "data": {
      "text/plain": [
       "(3, 5)"
      ]
     },
     "execution_count": 37,
     "metadata": {},
     "output_type": "execute_result"
    }
   ],
   "source": [
    "a.shape"
   ]
  },
  {
   "cell_type": "code",
   "execution_count": 38,
   "id": "ed2a4aeb",
   "metadata": {},
   "outputs": [],
   "source": [
    "border = index%a.shape[1]\n",
    "count = index//a.shape[1]"
   ]
  },
  {
   "cell_type": "code",
   "execution_count": 39,
   "id": "80515134",
   "metadata": {},
   "outputs": [
    {
     "data": {
      "text/plain": [
       "(0, 2)"
      ]
     },
     "execution_count": 39,
     "metadata": {},
     "output_type": "execute_result"
    }
   ],
   "source": [
    "border, count"
   ]
  },
  {
   "cell_type": "code",
   "execution_count": 40,
   "id": "61fb6113",
   "metadata": {},
   "outputs": [
    {
     "data": {
      "text/plain": [
       "17"
      ]
     },
     "execution_count": 40,
     "metadata": {},
     "output_type": "execute_result"
    }
   ],
   "source": [
    "a[count, border]"
   ]
  },
  {
   "cell_type": "code",
   "execution_count": 42,
   "id": "0aa412ee",
   "metadata": {},
   "outputs": [
    {
     "data": {
      "text/plain": [
       "array([1, 0, 0, 1, 0], dtype=int64)"
      ]
     },
     "execution_count": 42,
     "metadata": {},
     "output_type": "execute_result"
    }
   ],
   "source": [
    "np.argmax(a[1:], axis=0)"
   ]
  },
  {
   "cell_type": "code",
   "execution_count": null,
   "id": "6f3f532e",
   "metadata": {},
   "outputs": [],
   "source": []
  }
 ],
 "metadata": {
  "kernelspec": {
   "display_name": "Python 3 (ipykernel)",
   "language": "python",
   "name": "python3"
  },
  "language_info": {
   "codemirror_mode": {
    "name": "ipython",
    "version": 3
   },
   "file_extension": ".py",
   "mimetype": "text/x-python",
   "name": "python",
   "nbconvert_exporter": "python",
   "pygments_lexer": "ipython3",
   "version": "3.8.3"
  }
 },
 "nbformat": 4,
 "nbformat_minor": 5
}
