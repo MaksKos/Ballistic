{
 "cells": [
  {
   "cell_type": "code",
   "execution_count": 1,
   "id": "c53e2078",
   "metadata": {},
   "outputs": [],
   "source": [
    "import copy\n",
    "import numpy as np\n",
    "import matplotlib.pyplot as plt\n",
    "import pandas as pd\n",
    "from modules import solver, presolver\n",
    "from pyballistics import ozvb_lagrange, get_powder_names\n",
    "from tqdm import tqdm"
   ]
  },
  {
   "cell_type": "markdown",
   "id": "0f1c1561",
   "metadata": {},
   "source": [
    "## Нахождение начальных точек\n",
    "формируется таблица с начальными точками для каждого пороха"
   ]
  },
  {
   "cell_type": "code",
   "execution_count": 2,
   "id": "149a80dc",
   "metadata": {},
   "outputs": [
    {
     "data": {
      "text/html": [
       "<div>\n",
       "<style scoped>\n",
       "    .dataframe tbody tr th:only-of-type {\n",
       "        vertical-align: middle;\n",
       "    }\n",
       "\n",
       "    .dataframe tbody tr th {\n",
       "        vertical-align: top;\n",
       "    }\n",
       "\n",
       "    .dataframe thead th {\n",
       "        text-align: right;\n",
       "    }\n",
       "</style>\n",
       "<table border=\"1\" class=\"dataframe\">\n",
       "  <thead>\n",
       "    <tr style=\"text-align: right;\">\n",
       "      <th></th>\n",
       "      <th>dbname</th>\n",
       "      <th>wq</th>\n",
       "      <th>ro</th>\n",
       "      <th>reason</th>\n",
       "      <th>success</th>\n",
       "    </tr>\n",
       "  </thead>\n",
       "  <tbody>\n",
       "  </tbody>\n",
       "</table>\n",
       "</div>"
      ],
      "text/plain": [
       "Empty DataFrame\n",
       "Columns: [dbname, wq, ro, reason, success]\n",
       "Index: []"
      ]
     },
     "execution_count": 2,
     "metadata": {},
     "output_type": "execute_result"
    }
   ],
   "source": [
    "tabel_init_points = pd.read_csv(\"data/init_points.csv\")\n",
    "tabel_init_points.loc[tabel_init_points['success']==False]"
   ]
  },
  {
   "cell_type": "markdown",
   "id": "ec2ebed8",
   "metadata": {},
   "source": [
    "## Решение обратной задачи"
   ]
  },
  {
   "cell_type": "code",
   "execution_count": 3,
   "id": "a708985b",
   "metadata": {},
   "outputs": [],
   "source": [
    "tabel_result = list()"
   ]
  },
  {
   "cell_type": "code",
   "execution_count": null,
   "id": "7a4ff66b",
   "metadata": {},
   "outputs": [
    {
     "name": "stderr",
     "output_type": "stream",
     "text": [
      "\r",
      "0it [00:00, ?it/s]"
     ]
    }
   ],
   "source": [
    "%%time\n",
    "\n",
    "for i, row in tqdm(tabel_init_points.iterrows()):\n",
    "    initial_dict = presolver.init_dict(row['dbname'], row['wq'], row['ro'])\n",
    "    #print(\"name: \", row['dbname'], \" wq: \", row['wq'], \" ro \", row['ro'])\n",
    "    solv = solver.Solver(initial_dict)\n",
    "    solv.solution()\n",
    "    tabel_result.append(solv.get_solution())   "
   ]
  },
  {
   "cell_type": "code",
   "execution_count": 6,
   "id": "2075f051",
   "metadata": {},
   "outputs": [],
   "source": [
    "result = copy.deepcopy(tabel_result)"
   ]
  },
  {
   "cell_type": "code",
   "execution_count": 29,
   "id": "02561ab5",
   "metadata": {},
   "outputs": [],
   "source": [
    "table = list()\n",
    "for row in result:\n",
    "    if row == {None}:\n",
    "        continue\n",
    "    table.append(row)"
   ]
  },
  {
   "cell_type": "code",
   "execution_count": 30,
   "id": "9e94f7bf",
   "metadata": {},
   "outputs": [],
   "source": [
    "table = pd.DataFrame(table)"
   ]
  },
  {
   "cell_type": "code",
   "execution_count": 31,
   "id": "39efc105",
   "metadata": {},
   "outputs": [],
   "source": [
    "#table.to_csv(\"data/table_result.csv\", index=False)"
   ]
  },
  {
   "cell_type": "markdown",
   "id": "9d29f03d",
   "metadata": {},
   "source": [
    "## Обработка"
   ]
  },
  {
   "cell_type": "code",
   "execution_count": 32,
   "id": "816bdf97",
   "metadata": {},
   "outputs": [
    {
     "data": {
      "text/html": [
       "<div>\n",
       "<style scoped>\n",
       "    .dataframe tbody tr th:only-of-type {\n",
       "        vertical-align: middle;\n",
       "    }\n",
       "\n",
       "    .dataframe tbody tr th {\n",
       "        vertical-align: top;\n",
       "    }\n",
       "\n",
       "    .dataframe thead th {\n",
       "        text-align: right;\n",
       "    }\n",
       "</style>\n",
       "<table border=\"1\" class=\"dataframe\">\n",
       "  <thead>\n",
       "    <tr style=\"text-align: right;\">\n",
       "      <th></th>\n",
       "      <th>name</th>\n",
       "      <th>succes</th>\n",
       "      <th>wq</th>\n",
       "      <th>ro</th>\n",
       "      <th>mass</th>\n",
       "    </tr>\n",
       "  </thead>\n",
       "  <tbody>\n",
       "    <tr>\n",
       "      <th>0</th>\n",
       "      <td>ДРП</td>\n",
       "      <td>True</td>\n",
       "      <td>3.869251</td>\n",
       "      <td>1011.404983</td>\n",
       "      <td>2650.941081</td>\n",
       "    </tr>\n",
       "    <tr>\n",
       "      <th>1</th>\n",
       "      <td>КЗДП</td>\n",
       "      <td>True</td>\n",
       "      <td>3.869251</td>\n",
       "      <td>1011.404979</td>\n",
       "      <td>2650.945574</td>\n",
       "    </tr>\n",
       "    <tr>\n",
       "      <th>2</th>\n",
       "      <td>СФ 033</td>\n",
       "      <td>True</td>\n",
       "      <td>1.935400</td>\n",
       "      <td>306.411056</td>\n",
       "      <td>992.756855</td>\n",
       "    </tr>\n",
       "    <tr>\n",
       "      <th>3</th>\n",
       "      <td>ВТ</td>\n",
       "      <td>True</td>\n",
       "      <td>1.613720</td>\n",
       "      <td>341.222446</td>\n",
       "      <td>928.111264</td>\n",
       "    </tr>\n",
       "    <tr>\n",
       "      <th>4</th>\n",
       "      <td>ВТМ</td>\n",
       "      <td>True</td>\n",
       "      <td>1.044243</td>\n",
       "      <td>429.070729</td>\n",
       "      <td>1769.155477</td>\n",
       "    </tr>\n",
       "  </tbody>\n",
       "</table>\n",
       "</div>"
      ],
      "text/plain": [
       "     name  succes        wq           ro         mass\n",
       "0     ДРП    True  3.869251  1011.404983  2650.941081\n",
       "1    КЗДП    True  3.869251  1011.404979  2650.945574\n",
       "2  СФ 033    True  1.935400   306.411056   992.756855\n",
       "3      ВТ    True  1.613720   341.222446   928.111264\n",
       "4     ВТМ    True  1.044243   429.070729  1769.155477"
      ]
     },
     "execution_count": 32,
     "metadata": {},
     "output_type": "execute_result"
    }
   ],
   "source": [
    "table.head()"
   ]
  },
  {
   "cell_type": "code",
   "execution_count": 38,
   "id": "4d2971a5",
   "metadata": {},
   "outputs": [
    {
     "data": {
      "text/html": [
       "<div>\n",
       "<style scoped>\n",
       "    .dataframe tbody tr th:only-of-type {\n",
       "        vertical-align: middle;\n",
       "    }\n",
       "\n",
       "    .dataframe tbody tr th {\n",
       "        vertical-align: top;\n",
       "    }\n",
       "\n",
       "    .dataframe thead th {\n",
       "        text-align: right;\n",
       "    }\n",
       "</style>\n",
       "<table border=\"1\" class=\"dataframe\">\n",
       "  <thead>\n",
       "    <tr style=\"text-align: right;\">\n",
       "      <th></th>\n",
       "      <th>name</th>\n",
       "      <th>succes</th>\n",
       "      <th>wq</th>\n",
       "      <th>ro</th>\n",
       "      <th>mass</th>\n",
       "    </tr>\n",
       "  </thead>\n",
       "  <tbody>\n",
       "    <tr>\n",
       "      <th>81</th>\n",
       "      <td>УГ-2</td>\n",
       "      <td>True</td>\n",
       "      <td>0.866869</td>\n",
       "      <td>89.828520</td>\n",
       "      <td>300.690783</td>\n",
       "    </tr>\n",
       "    <tr>\n",
       "      <th>34</th>\n",
       "      <td>12/7 В/А</td>\n",
       "      <td>True</td>\n",
       "      <td>1.327616</td>\n",
       "      <td>885.092813</td>\n",
       "      <td>301.055455</td>\n",
       "    </tr>\n",
       "    <tr>\n",
       "      <th>36</th>\n",
       "      <td>12/7</td>\n",
       "      <td>True</td>\n",
       "      <td>1.547683</td>\n",
       "      <td>897.894231</td>\n",
       "      <td>305.972314</td>\n",
       "    </tr>\n",
       "    <tr>\n",
       "      <th>41</th>\n",
       "      <td>15/1 тр В/А</td>\n",
       "      <td>True</td>\n",
       "      <td>1.383710</td>\n",
       "      <td>866.740867</td>\n",
       "      <td>306.791717</td>\n",
       "    </tr>\n",
       "    <tr>\n",
       "      <th>40</th>\n",
       "      <td>ДГ-4 13/1</td>\n",
       "      <td>True</td>\n",
       "      <td>1.494576</td>\n",
       "      <td>785.134073</td>\n",
       "      <td>315.032846</td>\n",
       "    </tr>\n",
       "    <tr>\n",
       "      <th>...</th>\n",
       "      <td>...</td>\n",
       "      <td>...</td>\n",
       "      <td>...</td>\n",
       "      <td>...</td>\n",
       "      <td>...</td>\n",
       "    </tr>\n",
       "    <tr>\n",
       "      <th>0</th>\n",
       "      <td>ДРП</td>\n",
       "      <td>True</td>\n",
       "      <td>3.869251</td>\n",
       "      <td>1011.404983</td>\n",
       "      <td>2650.941081</td>\n",
       "    </tr>\n",
       "    <tr>\n",
       "      <th>1</th>\n",
       "      <td>КЗДП</td>\n",
       "      <td>True</td>\n",
       "      <td>3.869251</td>\n",
       "      <td>1011.404979</td>\n",
       "      <td>2650.945574</td>\n",
       "    </tr>\n",
       "    <tr>\n",
       "      <th>17</th>\n",
       "      <td>ВТХ-20</td>\n",
       "      <td>True</td>\n",
       "      <td>2.926365</td>\n",
       "      <td>498.787279</td>\n",
       "      <td>3182.752509</td>\n",
       "    </tr>\n",
       "    <tr>\n",
       "      <th>57</th>\n",
       "      <td>УГ-1</td>\n",
       "      <td>True</td>\n",
       "      <td>8.138917</td>\n",
       "      <td>1132.513282</td>\n",
       "      <td>3280.681214</td>\n",
       "    </tr>\n",
       "    <tr>\n",
       "      <th>61</th>\n",
       "      <td>11/1 УГ</td>\n",
       "      <td>True</td>\n",
       "      <td>8.210450</td>\n",
       "      <td>1110.089396</td>\n",
       "      <td>3334.747790</td>\n",
       "    </tr>\n",
       "  </tbody>\n",
       "</table>\n",
       "<p>82 rows × 5 columns</p>\n",
       "</div>"
      ],
      "text/plain": [
       "           name  succes        wq           ro         mass\n",
       "81         УГ-2    True  0.866869    89.828520   300.690783\n",
       "34     12/7 В/А    True  1.327616   885.092813   301.055455\n",
       "36         12/7    True  1.547683   897.894231   305.972314\n",
       "41  15/1 тр В/А    True  1.383710   866.740867   306.791717\n",
       "40    ДГ-4 13/1    True  1.494576   785.134073   315.032846\n",
       "..          ...     ...       ...          ...          ...\n",
       "0           ДРП    True  3.869251  1011.404983  2650.941081\n",
       "1          КЗДП    True  3.869251  1011.404979  2650.945574\n",
       "17       ВТХ-20    True  2.926365   498.787279  3182.752509\n",
       "57         УГ-1    True  8.138917  1132.513282  3280.681214\n",
       "61      11/1 УГ    True  8.210450  1110.089396  3334.747790\n",
       "\n",
       "[82 rows x 5 columns]"
      ]
     },
     "execution_count": 38,
     "metadata": {},
     "output_type": "execute_result"
    }
   ],
   "source": [
    "table.sort_values(by=['mass'])"
   ]
  }
 ],
 "metadata": {
  "kernelspec": {
   "display_name": "Python 3 (ipykernel)",
   "language": "python",
   "name": "python3"
  },
  "language_info": {
   "codemirror_mode": {
    "name": "ipython",
    "version": 3
   },
   "file_extension": ".py",
   "mimetype": "text/x-python",
   "name": "python",
   "nbconvert_exporter": "python",
   "pygments_lexer": "ipython3",
   "version": "3.8.3"
  }
 },
 "nbformat": 4,
 "nbformat_minor": 5
}
