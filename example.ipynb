{
 "cells": [
  {
   "cell_type": "code",
   "execution_count": 1,
   "id": "c53e2078",
   "metadata": {},
   "outputs": [],
   "source": [
    "import copy\n",
    "import numpy as np\n",
    "import matplotlib.pyplot as plt\n",
    "import pandas as pd\n",
    "from modules import solver, presolver\n",
    "from pyballistics import ozvb_lagrange, get_powder_names\n",
    "from tqdm.notebook import tqdm, trange"
   ]
  },
  {
   "cell_type": "markdown",
   "id": "0f1c1561",
   "metadata": {},
   "source": [
    "## Нахождение начальных точек\n",
    "формируется таблица с начальными точками для каждого пороха"
   ]
  },
  {
   "cell_type": "code",
   "execution_count": 9,
   "id": "ad351930",
   "metadata": {},
   "outputs": [
    {
     "data": {
      "text/html": [
       "<div>\n",
       "<style scoped>\n",
       "    .dataframe tbody tr th:only-of-type {\n",
       "        vertical-align: middle;\n",
       "    }\n",
       "\n",
       "    .dataframe tbody tr th {\n",
       "        vertical-align: top;\n",
       "    }\n",
       "\n",
       "    .dataframe thead th {\n",
       "        text-align: right;\n",
       "    }\n",
       "</style>\n",
       "<table border=\"1\" class=\"dataframe\">\n",
       "  <thead>\n",
       "    <tr style=\"text-align: right;\">\n",
       "      <th></th>\n",
       "      <th>dbname</th>\n",
       "      <th>wq</th>\n",
       "      <th>ro</th>\n",
       "      <th>reason</th>\n",
       "      <th>success</th>\n",
       "    </tr>\n",
       "  </thead>\n",
       "  <tbody>\n",
       "  </tbody>\n",
       "</table>\n",
       "</div>"
      ],
      "text/plain": [
       "Empty DataFrame\n",
       "Columns: [dbname, wq, ro, reason, success]\n",
       "Index: []"
      ]
     },
     "execution_count": 9,
     "metadata": {},
     "output_type": "execute_result"
    }
   ],
   "source": [
    "tabel_init_points = pd.read_csv(\"data/init_points.csv\")\n",
    "tabel_init_points.loc[tabel_init_points['success']==False]"
   ]
  },
  {
   "cell_type": "markdown",
   "id": "ec2ebed8",
   "metadata": {},
   "source": [
    "## Решение обратной задачи"
   ]
  },
  {
   "cell_type": "code",
   "execution_count": 8,
   "id": "7a4ff66b",
   "metadata": {},
   "outputs": [
    {
     "data": {
      "application/vnd.jupyter.widget-view+json": {
       "model_id": "2b7eca6f3b274e88b2cb96291320ba68",
       "version_major": 2,
       "version_minor": 0
      },
      "text/plain": [
       "  0%|          | 0/102 [00:00<?, ?it/s]"
      ]
     },
     "metadata": {},
     "output_type": "display_data"
    },
    {
     "name": "stdout",
     "output_type": "stream",
     "text": [
      "Optimization terminated successfully.\n",
      "         Current function value: 1894.776423\n",
      "         Iterations: 71\n",
      "         Function evaluations: 144\n",
      "Optimization terminated successfully.\n",
      "         Current function value: 239.039540\n",
      "         Iterations: 92\n",
      "         Function evaluations: 182\n",
      "Optimization terminated successfully.\n",
      "         Current function value: 199.246610\n",
      "         Iterations: 96\n",
      "         Function evaluations: 196\n",
      "Optimization terminated successfully.\n",
      "         Current function value: 231.983686\n",
      "         Iterations: 91\n",
      "         Function evaluations: 182\n",
      "Optimization terminated successfully.\n",
      "         Current function value: 185.500691\n",
      "         Iterations: 101\n",
      "         Function evaluations: 207\n",
      "Optimization terminated successfully.\n",
      "         Current function value: 362.998254\n",
      "         Iterations: 102\n",
      "         Function evaluations: 202\n",
      "Optimization terminated successfully.\n",
      "         Current function value: 379.987534\n",
      "         Iterations: 68\n",
      "         Function evaluations: 136\n",
      "Optimization terminated successfully.\n",
      "         Current function value: 368.336981\n",
      "         Iterations: 63\n",
      "         Function evaluations: 126\n",
      "Optimization terminated successfully.\n",
      "         Current function value: 139942.077750\n",
      "         Iterations: 111\n",
      "         Function evaluations: 275\n",
      "Wall time: 13min 48s\n"
     ]
    }
   ],
   "source": [
    "%%time\n",
    "\n",
    "for i in trange(len(powders_names)):\n",
    "    initial_dict = copy.deepcopy(initial_dict_static)\n",
    "    initial_dict['powders'][0]['dbname'] = powders_names[i]\n",
    "    initial_dict['powders'][0]['omega'] = wq_0*q\n",
    "    initial_dict['init_conditions']['W_0'] = wq_0*q/ro_0\n",
    "    try:\n",
    "        solv = solver.Solver(initial_dict)\n",
    "        solv.solution()\n",
    "    except(ValueError, TypeError):\n",
    "        optim_parametrs.append(None)\n",
    "        continue\n",
    "    else:\n",
    "        optim_parametrs.append(solv.get_solution())\n"
   ]
  },
  {
   "cell_type": "markdown",
   "id": "a96cfcac",
   "metadata": {},
   "source": [
    "__Выбор лучшего решения__"
   ]
  },
  {
   "cell_type": "code",
   "execution_count": 9,
   "id": "2075f051",
   "metadata": {},
   "outputs": [],
   "source": [
    "result = copy.deepcopy(optim_parametrs)"
   ]
  },
  {
   "cell_type": "code",
   "execution_count": 10,
   "id": "6b80bcbb",
   "metadata": {},
   "outputs": [],
   "source": [
    "array = list()\n",
    "for res in result:\n",
    "    if res is None:\n",
    "        continue\n",
    "    elif res == {None}:\n",
    "        continue\n",
    "    else:\n",
    "        array.append(res)"
   ]
  },
  {
   "cell_type": "markdown",
   "id": "9d29f03d",
   "metadata": {},
   "source": [
    "## Обработка"
   ]
  },
  {
   "cell_type": "code",
   "execution_count": 11,
   "id": "349ff5f3",
   "metadata": {},
   "outputs": [],
   "source": [
    "import pandas as pd"
   ]
  },
  {
   "cell_type": "code",
   "execution_count": 12,
   "id": "609d0072",
   "metadata": {},
   "outputs": [],
   "source": [
    "table = pd.DataFrame(array)"
   ]
  },
  {
   "cell_type": "code",
   "execution_count": 13,
   "id": "21448511",
   "metadata": {},
   "outputs": [],
   "source": [
    "#table.to_csv(\"data/table2.csv\", index=False)"
   ]
  },
  {
   "cell_type": "code",
   "execution_count": 16,
   "id": "816bdf97",
   "metadata": {},
   "outputs": [
    {
     "data": {
      "text/html": [
       "<div>\n",
       "<style scoped>\n",
       "    .dataframe tbody tr th:only-of-type {\n",
       "        vertical-align: middle;\n",
       "    }\n",
       "\n",
       "    .dataframe tbody tr th {\n",
       "        vertical-align: top;\n",
       "    }\n",
       "\n",
       "    .dataframe thead th {\n",
       "        text-align: right;\n",
       "    }\n",
       "</style>\n",
       "<table border=\"1\" class=\"dataframe\">\n",
       "  <thead>\n",
       "    <tr style=\"text-align: right;\">\n",
       "      <th></th>\n",
       "      <th>name</th>\n",
       "      <th>wq</th>\n",
       "      <th>ro</th>\n",
       "      <th>mass</th>\n",
       "    </tr>\n",
       "  </thead>\n",
       "  <tbody>\n",
       "    <tr>\n",
       "      <th>0</th>\n",
       "      <td>4/7</td>\n",
       "      <td>0.956494</td>\n",
       "      <td>594.686809</td>\n",
       "      <td>1894.776439</td>\n",
       "    </tr>\n",
       "    <tr>\n",
       "      <th>1</th>\n",
       "      <td>11/7</td>\n",
       "      <td>1.634952</td>\n",
       "      <td>693.167174</td>\n",
       "      <td>239.039543</td>\n",
       "    </tr>\n",
       "    <tr>\n",
       "      <th>2</th>\n",
       "      <td>8/1 тр</td>\n",
       "      <td>1.442006</td>\n",
       "      <td>602.864438</td>\n",
       "      <td>199.246615</td>\n",
       "    </tr>\n",
       "    <tr>\n",
       "      <th>3</th>\n",
       "      <td>12/7 В/А</td>\n",
       "      <td>1.667090</td>\n",
       "      <td>705.148344</td>\n",
       "      <td>231.983696</td>\n",
       "    </tr>\n",
       "    <tr>\n",
       "      <th>4</th>\n",
       "      <td>14/1 тр В/А</td>\n",
       "      <td>1.678386</td>\n",
       "      <td>629.876074</td>\n",
       "      <td>185.500693</td>\n",
       "    </tr>\n",
       "  </tbody>\n",
       "</table>\n",
       "</div>"
      ],
      "text/plain": [
       "          name        wq          ro         mass\n",
       "0          4/7  0.956494  594.686809  1894.776439\n",
       "1         11/7  1.634952  693.167174   239.039543\n",
       "2       8/1 тр  1.442006  602.864438   199.246615\n",
       "3     12/7 В/А  1.667090  705.148344   231.983696\n",
       "4  14/1 тр В/А  1.678386  629.876074   185.500693"
      ]
     },
     "execution_count": 16,
     "metadata": {},
     "output_type": "execute_result"
    }
   ],
   "source": [
    "table.head()"
   ]
  },
  {
   "cell_type": "code",
   "execution_count": 17,
   "id": "b8942e11",
   "metadata": {},
   "outputs": [
    {
     "data": {
      "text/html": [
       "<div>\n",
       "<style scoped>\n",
       "    .dataframe tbody tr th:only-of-type {\n",
       "        vertical-align: middle;\n",
       "    }\n",
       "\n",
       "    .dataframe tbody tr th {\n",
       "        vertical-align: top;\n",
       "    }\n",
       "\n",
       "    .dataframe thead th {\n",
       "        text-align: right;\n",
       "    }\n",
       "</style>\n",
       "<table border=\"1\" class=\"dataframe\">\n",
       "  <thead>\n",
       "    <tr style=\"text-align: right;\">\n",
       "      <th></th>\n",
       "      <th>name</th>\n",
       "      <th>wq</th>\n",
       "      <th>ro</th>\n",
       "      <th>mass</th>\n",
       "    </tr>\n",
       "  </thead>\n",
       "  <tbody>\n",
       "    <tr>\n",
       "      <th>4</th>\n",
       "      <td>14/1 тр В/А</td>\n",
       "      <td>1.678386</td>\n",
       "      <td>629.876074</td>\n",
       "      <td>185.500693</td>\n",
       "    </tr>\n",
       "    <tr>\n",
       "      <th>8</th>\n",
       "      <td>УГ-2</td>\n",
       "      <td>1.547403</td>\n",
       "      <td>89.643090</td>\n",
       "      <td>197.902196</td>\n",
       "    </tr>\n",
       "    <tr>\n",
       "      <th>2</th>\n",
       "      <td>8/1 тр</td>\n",
       "      <td>1.442006</td>\n",
       "      <td>602.864438</td>\n",
       "      <td>199.246615</td>\n",
       "    </tr>\n",
       "    <tr>\n",
       "      <th>3</th>\n",
       "      <td>12/7 В/А</td>\n",
       "      <td>1.667090</td>\n",
       "      <td>705.148344</td>\n",
       "      <td>231.983696</td>\n",
       "    </tr>\n",
       "    <tr>\n",
       "      <th>1</th>\n",
       "      <td>11/7</td>\n",
       "      <td>1.634952</td>\n",
       "      <td>693.167174</td>\n",
       "      <td>239.039543</td>\n",
       "    </tr>\n",
       "    <tr>\n",
       "      <th>5</th>\n",
       "      <td>12/1 Тр</td>\n",
       "      <td>1.940916</td>\n",
       "      <td>577.530713</td>\n",
       "      <td>362.998255</td>\n",
       "    </tr>\n",
       "    <tr>\n",
       "      <th>7</th>\n",
       "      <td>15/1 тр В/А</td>\n",
       "      <td>1.963247</td>\n",
       "      <td>595.834038</td>\n",
       "      <td>368.337038</td>\n",
       "    </tr>\n",
       "    <tr>\n",
       "      <th>6</th>\n",
       "      <td>ДГ-4 13/1</td>\n",
       "      <td>1.964070</td>\n",
       "      <td>592.055712</td>\n",
       "      <td>379.987595</td>\n",
       "    </tr>\n",
       "    <tr>\n",
       "      <th>0</th>\n",
       "      <td>4/7</td>\n",
       "      <td>0.956494</td>\n",
       "      <td>594.686809</td>\n",
       "      <td>1894.776439</td>\n",
       "    </tr>\n",
       "  </tbody>\n",
       "</table>\n",
       "</div>"
      ],
      "text/plain": [
       "          name        wq          ro         mass\n",
       "4  14/1 тр В/А  1.678386  629.876074   185.500693\n",
       "8         УГ-2  1.547403   89.643090   197.902196\n",
       "2       8/1 тр  1.442006  602.864438   199.246615\n",
       "3     12/7 В/А  1.667090  705.148344   231.983696\n",
       "1         11/7  1.634952  693.167174   239.039543\n",
       "5      12/1 Тр  1.940916  577.530713   362.998255\n",
       "7  15/1 тр В/А  1.963247  595.834038   368.337038\n",
       "6    ДГ-4 13/1  1.964070  592.055712   379.987595\n",
       "0          4/7  0.956494  594.686809  1894.776439"
      ]
     },
     "execution_count": 17,
     "metadata": {},
     "output_type": "execute_result"
    }
   ],
   "source": [
    "table.sort_values(by='mass')"
   ]
  },
  {
   "cell_type": "code",
   "execution_count": null,
   "id": "10ea46de",
   "metadata": {},
   "outputs": [],
   "source": []
  }
 ],
 "metadata": {
  "kernelspec": {
   "display_name": "Python 3 (ipykernel)",
   "language": "python",
   "name": "python3"
  },
  "language_info": {
   "codemirror_mode": {
    "name": "ipython",
    "version": 3
   },
   "file_extension": ".py",
   "mimetype": "text/x-python",
   "name": "python",
   "nbconvert_exporter": "python",
   "pygments_lexer": "ipython3",
   "version": "3.8.3"
  }
 },
 "nbformat": 4,
 "nbformat_minor": 5
}
