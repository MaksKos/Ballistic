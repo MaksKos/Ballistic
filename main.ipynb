{
 "cells": [
  {
   "cell_type": "code",
   "execution_count": 1,
   "id": "c53e2078",
   "metadata": {},
   "outputs": [],
   "source": [
    "import copy\n",
    "import joblib\n",
    "import numpy as np\n",
    "import matplotlib.pyplot as plt\n",
    "import pandas as pd\n",
    "from modules import solver, presolver\n",
    "from pyballistics import ozvb_lagrange, get_powder_names\n",
    "from tqdm import tqdm\n",
    "from joblib import Parallel, delayed"
   ]
  },
  {
   "cell_type": "markdown",
   "id": "0f1c1561",
   "metadata": {},
   "source": [
    "## Подгрузка начальных точек\n",
    "формируется таблица с начальными точками для каждого пороха"
   ]
  },
  {
   "cell_type": "code",
   "execution_count": 4,
   "id": "4de9789f",
   "metadata": {},
   "outputs": [
    {
     "data": {
      "text/html": [
       "<div>\n",
       "<style scoped>\n",
       "    .dataframe tbody tr th:only-of-type {\n",
       "        vertical-align: middle;\n",
       "    }\n",
       "\n",
       "    .dataframe tbody tr th {\n",
       "        vertical-align: top;\n",
       "    }\n",
       "\n",
       "    .dataframe thead th {\n",
       "        text-align: right;\n",
       "    }\n",
       "</style>\n",
       "<table border=\"1\" class=\"dataframe\">\n",
       "  <thead>\n",
       "    <tr style=\"text-align: right;\">\n",
       "      <th></th>\n",
       "      <th>dbname</th>\n",
       "      <th>wq</th>\n",
       "      <th>ro</th>\n",
       "      <th>reason</th>\n",
       "      <th>success</th>\n",
       "    </tr>\n",
       "  </thead>\n",
       "  <tbody>\n",
       "    <tr>\n",
       "      <th>0</th>\n",
       "      <td>ДРП</td>\n",
       "      <td>0.862161</td>\n",
       "      <td>399.619618</td>\n",
       "      <td>x_p</td>\n",
       "      <td>True</td>\n",
       "    </tr>\n",
       "    <tr>\n",
       "      <th>1</th>\n",
       "      <td>КЗДП</td>\n",
       "      <td>1.608538</td>\n",
       "      <td>970.827178</td>\n",
       "      <td>x_p</td>\n",
       "      <td>True</td>\n",
       "    </tr>\n",
       "    <tr>\n",
       "      <th>2</th>\n",
       "      <td>ВУ фл</td>\n",
       "      <td>0.904585</td>\n",
       "      <td>260.026381</td>\n",
       "      <td>x_p</td>\n",
       "      <td>True</td>\n",
       "    </tr>\n",
       "    <tr>\n",
       "      <th>3</th>\n",
       "      <td>СФ 033</td>\n",
       "      <td>1.569478</td>\n",
       "      <td>1052.903664</td>\n",
       "      <td>p_max</td>\n",
       "      <td>True</td>\n",
       "    </tr>\n",
       "    <tr>\n",
       "      <th>4</th>\n",
       "      <td>ВТ</td>\n",
       "      <td>1.143838</td>\n",
       "      <td>661.988831</td>\n",
       "      <td>p_max</td>\n",
       "      <td>True</td>\n",
       "    </tr>\n",
       "  </tbody>\n",
       "</table>\n",
       "</div>"
      ],
      "text/plain": [
       "   dbname        wq           ro reason  success\n",
       "0     ДРП  0.862161   399.619618    x_p     True\n",
       "1    КЗДП  1.608538   970.827178    x_p     True\n",
       "2   ВУ фл  0.904585   260.026381    x_p     True\n",
       "3  СФ 033  1.569478  1052.903664  p_max     True\n",
       "4      ВТ  1.143838   661.988831  p_max     True"
      ]
     },
     "execution_count": 4,
     "metadata": {},
     "output_type": "execute_result"
    }
   ],
   "source": [
    "tabel_init_points = pd.read_csv(\"data/init_points.csv\")\n",
    "tabel_init_points.loc[tabel_init_points['success']==False]\n",
    "tabel_init_points.head()"
   ]
  },
  {
   "cell_type": "markdown",
   "id": "ec2ebed8",
   "metadata": {},
   "source": [
    "## Решение обратной задачи"
   ]
  },
  {
   "cell_type": "code",
   "execution_count": 5,
   "id": "2eed208a",
   "metadata": {},
   "outputs": [],
   "source": [
    "core = joblib.cpu_count() - 2"
   ]
  },
  {
   "cell_type": "code",
   "execution_count": 6,
   "id": "655042ef",
   "metadata": {},
   "outputs": [],
   "source": [
    "def step(row):\n",
    "    initial_dict = presolver.init_dict(row['dbname'], row['wq'], row['ro'])\n",
    "    solv = solver.Solver(initial_dict)\n",
    "    solv.solution()\n",
    "    return solv.get_solution()   "
   ]
  },
  {
   "cell_type": "code",
   "execution_count": 7,
   "id": "92c7c72c",
   "metadata": {},
   "outputs": [
    {
     "name": "stderr",
     "output_type": "stream",
     "text": [
      "[Parallel(n_jobs=10)]: Using backend LokyBackend with 10 concurrent workers.\n",
      "[Parallel(n_jobs=10)]: Done   5 tasks      | elapsed:   33.5s\n",
      "[Parallel(n_jobs=10)]: Done  12 tasks      | elapsed:  1.1min\n",
      "[Parallel(n_jobs=10)]: Done  21 tasks      | elapsed:  1.7min\n",
      "[Parallel(n_jobs=10)]: Done  30 tasks      | elapsed:  2.5min\n",
      "[Parallel(n_jobs=10)]: Done  41 tasks      | elapsed:  3.6min\n",
      "[Parallel(n_jobs=10)]: Done  52 tasks      | elapsed:  4.6min\n",
      "[Parallel(n_jobs=10)]: Done  65 tasks      | elapsed:  5.8min\n",
      "[Parallel(n_jobs=10)]: Done  78 tasks      | elapsed:  7.0min\n",
      "[Parallel(n_jobs=10)]: Done  94 out of 102 | elapsed:  8.2min remaining:   41.6s\n"
     ]
    },
    {
     "name": "stdout",
     "output_type": "stream",
     "text": [
      "Wall time: 9min 32s\n"
     ]
    },
    {
     "name": "stderr",
     "output_type": "stream",
     "text": [
      "[Parallel(n_jobs=10)]: Done 102 out of 102 | elapsed:  9.5min finished\n"
     ]
    }
   ],
   "source": [
    "%%time\n",
    "tabel_result = Parallel(n_jobs=core, verbose=10)(delayed(step)(row) for i, row in tabel_init_points.iterrows())"
   ]
  },
  {
   "cell_type": "code",
   "execution_count": 8,
   "id": "2075f051",
   "metadata": {},
   "outputs": [],
   "source": [
    "result = copy.deepcopy(tabel_result)"
   ]
  },
  {
   "cell_type": "code",
   "execution_count": 9,
   "id": "8b464707",
   "metadata": {},
   "outputs": [],
   "source": [
    "table = list()\n",
    "for row in result:\n",
    "    if row is None:\n",
    "        continue\n",
    "    table.append(row)"
   ]
  },
  {
   "cell_type": "code",
   "execution_count": 10,
   "id": "65f04f1b",
   "metadata": {},
   "outputs": [],
   "source": [
    "table = pd.DataFrame(table)"
   ]
  },
  {
   "cell_type": "code",
   "execution_count": 11,
   "id": "de67e0f8",
   "metadata": {},
   "outputs": [],
   "source": [
    "#table.to_csv(\"data/table_result_lenght.csv\", index=False)"
   ]
  },
  {
   "cell_type": "code",
   "execution_count": 14,
   "id": "7631164a",
   "metadata": {},
   "outputs": [
    {
     "data": {
      "text/html": [
       "<div>\n",
       "<style scoped>\n",
       "    .dataframe tbody tr th:only-of-type {\n",
       "        vertical-align: middle;\n",
       "    }\n",
       "\n",
       "    .dataframe tbody tr th {\n",
       "        vertical-align: top;\n",
       "    }\n",
       "\n",
       "    .dataframe thead th {\n",
       "        text-align: right;\n",
       "    }\n",
       "</style>\n",
       "<table border=\"1\" class=\"dataframe\">\n",
       "  <thead>\n",
       "    <tr style=\"text-align: right;\">\n",
       "      <th></th>\n",
       "      <th>name</th>\n",
       "      <th>succes</th>\n",
       "      <th>wq</th>\n",
       "      <th>ro</th>\n",
       "      <th>mass</th>\n",
       "      <th>reason</th>\n",
       "    </tr>\n",
       "  </thead>\n",
       "  <tbody>\n",
       "    <tr>\n",
       "      <th>41</th>\n",
       "      <td>14/1 тр В/А</td>\n",
       "      <td>True</td>\n",
       "      <td>1.736142</td>\n",
       "      <td>656.106480</td>\n",
       "      <td>810.121018</td>\n",
       "      <td>x_p</td>\n",
       "    </tr>\n",
       "    <tr>\n",
       "      <th>42</th>\n",
       "      <td>12/1 Тр</td>\n",
       "      <td>True</td>\n",
       "      <td>1.845987</td>\n",
       "      <td>666.388900</td>\n",
       "      <td>815.835714</td>\n",
       "      <td>x_p</td>\n",
       "    </tr>\n",
       "    <tr>\n",
       "      <th>46</th>\n",
       "      <td>15/1 тр В/А</td>\n",
       "      <td>True</td>\n",
       "      <td>1.549453</td>\n",
       "      <td>821.554876</td>\n",
       "      <td>820.354454</td>\n",
       "      <td>x_p</td>\n",
       "    </tr>\n",
       "    <tr>\n",
       "      <th>43</th>\n",
       "      <td>12/1 тр МН</td>\n",
       "      <td>True</td>\n",
       "      <td>1.984872</td>\n",
       "      <td>658.051825</td>\n",
       "      <td>826.982773</td>\n",
       "      <td>x_p</td>\n",
       "    </tr>\n",
       "    <tr>\n",
       "      <th>36</th>\n",
       "      <td>12/7 В/А</td>\n",
       "      <td>True</td>\n",
       "      <td>1.461563</td>\n",
       "      <td>863.845443</td>\n",
       "      <td>829.595357</td>\n",
       "      <td>x_p</td>\n",
       "    </tr>\n",
       "    <tr>\n",
       "      <th>...</th>\n",
       "      <td>...</td>\n",
       "      <td>...</td>\n",
       "      <td>...</td>\n",
       "      <td>...</td>\n",
       "      <td>...</td>\n",
       "      <td>...</td>\n",
       "    </tr>\n",
       "    <tr>\n",
       "      <th>69</th>\n",
       "      <td>УГ-1</td>\n",
       "      <td>True</td>\n",
       "      <td>8.073102</td>\n",
       "      <td>1097.884311</td>\n",
       "      <td>3915.452348</td>\n",
       "      <td>x_p</td>\n",
       "    </tr>\n",
       "    <tr>\n",
       "      <th>7</th>\n",
       "      <td>ВТХ-10</td>\n",
       "      <td>True</td>\n",
       "      <td>2.355264</td>\n",
       "      <td>407.454148</td>\n",
       "      <td>4232.524752</td>\n",
       "      <td>x_p</td>\n",
       "    </tr>\n",
       "    <tr>\n",
       "      <th>68</th>\n",
       "      <td>УГФ-1</td>\n",
       "      <td>False</td>\n",
       "      <td>NaN</td>\n",
       "      <td>NaN</td>\n",
       "      <td>NaN</td>\n",
       "      <td>None</td>\n",
       "    </tr>\n",
       "    <tr>\n",
       "      <th>79</th>\n",
       "      <td>100/56</td>\n",
       "      <td>False</td>\n",
       "      <td>NaN</td>\n",
       "      <td>NaN</td>\n",
       "      <td>NaN</td>\n",
       "      <td>None</td>\n",
       "    </tr>\n",
       "    <tr>\n",
       "      <th>101</th>\n",
       "      <td>УГ-2</td>\n",
       "      <td>False</td>\n",
       "      <td>NaN</td>\n",
       "      <td>NaN</td>\n",
       "      <td>NaN</td>\n",
       "      <td>None</td>\n",
       "    </tr>\n",
       "  </tbody>\n",
       "</table>\n",
       "<p>102 rows × 6 columns</p>\n",
       "</div>"
      ],
      "text/plain": [
       "            name  succes        wq           ro         mass reason\n",
       "41   14/1 тр В/А    True  1.736142   656.106480   810.121018    x_p\n",
       "42       12/1 Тр    True  1.845987   666.388900   815.835714    x_p\n",
       "46   15/1 тр В/А    True  1.549453   821.554876   820.354454    x_p\n",
       "43    12/1 тр МН    True  1.984872   658.051825   826.982773    x_p\n",
       "36      12/7 В/А    True  1.461563   863.845443   829.595357    x_p\n",
       "..           ...     ...       ...          ...          ...    ...\n",
       "69          УГ-1    True  8.073102  1097.884311  3915.452348    x_p\n",
       "7         ВТХ-10    True  2.355264   407.454148  4232.524752    x_p\n",
       "68         УГФ-1   False       NaN          NaN          NaN   None\n",
       "79        100/56   False       NaN          NaN          NaN   None\n",
       "101         УГ-2   False       NaN          NaN          NaN   None\n",
       "\n",
       "[102 rows x 6 columns]"
      ]
     },
     "execution_count": 14,
     "metadata": {},
     "output_type": "execute_result"
    }
   ],
   "source": [
    "table.sort_values(by=['mass'])"
   ]
  },
  {
   "cell_type": "markdown",
   "id": "22f47c01",
   "metadata": {},
   "source": [
    "## Прямая задача"
   ]
  },
  {
   "cell_type": "code",
   "execution_count": null,
   "id": "40aebd3c",
   "metadata": {},
   "outputs": [],
   "source": [
    "d = 125*1e-3\n",
    "name = None\n",
    "wq_0, ro_0 = None, None\n",
    "bounds = [1.3, 450]\n",
    "init_dict  = presolver.init_dict(name)\n",
    "core = joblib.cpu_count()-2"
   ]
  },
  {
   "cell_type": "code",
   "execution_count": null,
   "id": "3c6bf9a5",
   "metadata": {},
   "outputs": [],
   "source": [
    "%%time\n",
    "tabel_pr = presolver.random_points_multiproc(init_dict, [2.5, 700], bounds, max_loop=10000, core=core)"
   ]
  },
  {
   "cell_type": "code",
   "execution_count": null,
   "id": "4cbe9778",
   "metadata": {},
   "outputs": [],
   "source": [
    "table_pr = pd.DataFrame(tabel_pr)"
   ]
  },
  {
   "cell_type": "code",
   "execution_count": null,
   "id": "9b8644c3",
   "metadata": {},
   "outputs": [],
   "source": [
    "#table_pr.to_csv(\"data/direct_task.csv\", index=False)"
   ]
  }
 ],
 "metadata": {
  "kernelspec": {
   "display_name": "Python 3 (ipykernel)",
   "language": "python",
   "name": "python3"
  },
  "language_info": {
   "codemirror_mode": {
    "name": "ipython",
    "version": 3
   },
   "file_extension": ".py",
   "mimetype": "text/x-python",
   "name": "python",
   "nbconvert_exporter": "python",
   "pygments_lexer": "ipython3",
   "version": "3.8.3"
  }
 },
 "nbformat": 4,
 "nbformat_minor": 5
}
